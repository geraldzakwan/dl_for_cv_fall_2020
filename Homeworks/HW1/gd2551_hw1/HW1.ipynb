{
 "cells": [
  {
   "cell_type": "markdown",
   "metadata": {
    "id": "WtcZNkd5zUU6"
   },
   "source": [
    "# Deep Learning for Computer Vision:  HW 1\n"
   ]
  },
  {
   "cell_type": "markdown",
   "metadata": {
    "id": "jXsoJsm0zUU6"
   },
   "source": [
    "## Computer Science: COMS W 4995 004\n"
   ]
  },
  {
   "cell_type": "markdown",
   "metadata": {
    "id": "XYr-cvNtzUU7"
   },
   "source": [
    "### Due: September 29, 2020"
   ]
  },
  {
   "cell_type": "markdown",
   "metadata": {
    "id": "NVQSj_y-zUU8"
   },
   "source": []
  },
  {
   "cell_type": "markdown",
   "metadata": {
    "id": "_f9TNRzGzUU8"
   },
   "source": [
    "#### Problem 1"
   ]
  },
  {
   "cell_type": "markdown",
   "metadata": {
    "id": "FYG7R4sFzUU9"
   },
   "source": [
    "Let's start with a two class classification problem. You are asked to\n",
    "\n",
    "1. Create your own dataset using real data. This data can be found by you online or gathered and measured by you. You are not to use datasets that others have put together, instead you are looking for raw data for a two class classification problem. The data does not have to come from images, but it is ok if it does. The data should contain 100 or more samples (more is better) from each class and the features should be at least 2 dimensional. It is ok to use Python libs, e.g. OpenCV, to extract features from your raw data. And it is ok if the labels for the classes are given by the data, or you can annotate this data yourself. \n",
    "\n",
    "2. Divide this data up into a training set (80%) and a validation set (20%). Experiment with plotting this data in some of the raw feature dimensions much like we did in class. Hand-draw possible classifiers in these plots. \n",
    "\n",
    "3. Compute the prior for both classes from the data you gathered. Or if you do not believe you can determine this, assume both classes are equally likely. If you only have a couple of features, you can try to fit to a multivariate Gaussian class conditional density functions--this simply means you need to find the sample mean and sample covariance matrix for both classes from the samples. Alternatively, you can use a naive Bayes algorithm that assumes each feature is independent. But again assume a Gaussian distribution for each and find the joint probability as the product of the per feature probabilities. Plot the decision boundary for a minimum error-rate classifier assuming your fits are correct. Are these good fits to your data? How does this decision boundary differ from the one you drew by hand?\n",
    "\n",
    "To make things more consistent, let's all use the same notation.  Let the class conditional density functions (or likelihoods) be given by $\\rho({\\bf x}|y_i)$ where ${\\bf x}$ is your feature and $y_i$ specifies the class. Let's also assume that the priors $P(y_i)$ are the same for both classes. Hint: you can find the decision boundary by densely generating sample points ${\\bf x}_j \\in X$ according to your ccd's, classifying them, and then plotting and coloring them according to their predicted label."
   ]
  },
  {
   "cell_type": "markdown",
   "metadata": {
    "id": "KTl0D94DzUU9"
   },
   "source": [
    "Remember all you need to do is to use Bayes theorem to get the expression for $P(y_i|{\\bf x})$, then for each sample ${\\bf x}_j \\in X$ choose the $i$ with the highest aposteriori probability. Do not use any statisical packages to do this other than numpy to fit to your Gaussian distribution(s)."
   ]
  },
  {
   "cell_type": "markdown",
   "metadata": {
    "id": "VtLrMe6aTlUH"
   },
   "source": [
    "# Problem 1.1 and 1.2"
   ]
  },
  {
   "cell_type": "markdown",
   "metadata": {
    "id": "iuYyhfa7QXbW"
   },
   "source": [
    "## Data Description"
   ]
  },
  {
   "cell_type": "markdown",
   "metadata": {
    "id": "BstWASFSQZeN"
   },
   "source": [
    "I use image data, taken from Google. The classes are \"Central Park\" and \"Time Square\". Each class has 120 data in total, with 96 of them being the train set and the other 24 of them being the test set."
   ]
  },
  {
   "cell_type": "code",
   "execution_count": 1,
   "metadata": {},
   "outputs": [
    {
     "name": "stdout",
     "output_type": "stream",
     "text": [
      "Requirement already satisfied: matplotlib in /Library/Frameworks/Python.framework/Versions/3.6/lib/python3.6/site-packages (3.0.3)\n",
      "Requirement already satisfied: numpy in /Library/Frameworks/Python.framework/Versions/3.6/lib/python3.6/site-packages (1.15.1)\n",
      "Requirement already satisfied: opencv-python in /Library/Frameworks/Python.framework/Versions/3.6/lib/python3.6/site-packages (4.4.0.44)\n",
      "Requirement already satisfied: scipy in /Library/Frameworks/Python.framework/Versions/3.6/lib/python3.6/site-packages (1.3.1)\n",
      "Requirement already satisfied: kiwisolver>=1.0.1 in /Library/Frameworks/Python.framework/Versions/3.6/lib/python3.6/site-packages (from matplotlib) (1.0.1)\n",
      "Requirement already satisfied: python-dateutil>=2.1 in /Library/Frameworks/Python.framework/Versions/3.6/lib/python3.6/site-packages (from matplotlib) (2.7.3)\n",
      "Requirement already satisfied: pyparsing!=2.0.4,!=2.1.2,!=2.1.6,>=2.0.1 in /Library/Frameworks/Python.framework/Versions/3.6/lib/python3.6/site-packages (from matplotlib) (2.3.1)\n",
      "Requirement already satisfied: cycler>=0.10 in /Library/Frameworks/Python.framework/Versions/3.6/lib/python3.6/site-packages (from matplotlib) (0.10.0)\n",
      "Requirement already satisfied: setuptools in /Library/Frameworks/Python.framework/Versions/3.6/lib/python3.6/site-packages (from kiwisolver>=1.0.1->matplotlib) (41.2.0)\n",
      "Requirement already satisfied: six>=1.5 in /Library/Frameworks/Python.framework/Versions/3.6/lib/python3.6/site-packages (from python-dateutil>=2.1->matplotlib) (1.12.0)\n",
      "\u001b[33mWARNING: You are using pip version 19.3.1; however, version 20.2.3 is available.\n",
      "You should consider upgrading via the 'pip install --upgrade pip' command.\u001b[0m\n"
     ]
    }
   ],
   "source": [
    "!pip install matplotlib numpy opencv-python scipy "
   ]
  },
  {
   "cell_type": "markdown",
   "metadata": {
    "id": "PUC4QJKKuhsL"
   },
   "source": [
    "## Check that we have access to the data and the number of data is correct"
   ]
  },
  {
   "cell_type": "code",
   "execution_count": 2,
   "metadata": {
    "colab": {
     "base_uri": "https://localhost:8080/",
     "height": 85
    },
    "id": "viHao9n3ud97",
    "outputId": "ef94e130-7926-4d32-c008-97526016d35e"
   },
   "outputs": [
    {
     "name": "stdout",
     "output_type": "stream",
     "text": [
      "      96\n",
      "      96\n",
      "      24\n",
      "      24\n"
     ]
    }
   ],
   "source": [
    "!ls \"data/train/centralpark\" | wc -l\n",
    "!ls \"data/train/timesquare\" | wc -l\n",
    "!ls \"data/test/centralpark\" | wc -l\n",
    "!ls \"data/test/timesquare\" | wc -l"
   ]
  },
  {
   "cell_type": "markdown",
   "metadata": {
    "id": "VFutpmBHKfH6"
   },
   "source": [
    "## Imports and Dir Constants"
   ]
  },
  {
   "cell_type": "code",
   "execution_count": 3,
   "metadata": {
    "id": "l2wVBsk2zgat"
   },
   "outputs": [],
   "source": [
    "import os\n",
    "import time\n",
    "import matplotlib.pyplot as plt\n",
    "import numpy as np\n",
    "import cv2\n",
    "\n",
    "from scipy.stats import multivariate_normal\n",
    "from datetime import datetime\n",
    "\n",
    "base_path        = 'data'\n",
    "train_path       = base_path + '/train'\n",
    "test_path        = base_path + '/test'"
   ]
  },
  {
   "cell_type": "markdown",
   "metadata": {
    "id": "qP08Hm5BJecp"
   },
   "source": [
    "## Determine Fixed Size"
   ]
  },
  {
   "cell_type": "markdown",
   "metadata": {
    "id": "WOf0RXlVJhpw"
   },
   "source": [
    "I find that for both train and test data, there is no image with lower resolution than 200x200, so I pick that as my fixed size"
   ]
  },
  {
   "cell_type": "code",
   "execution_count": 4,
   "metadata": {
    "colab": {
     "base_uri": "https://localhost:8080/",
     "height": 85
    },
    "id": "Hzrbu7gTFBvI",
    "outputId": "36cb5f82-9b3b-413c-cc5f-2e078b9f3241"
   },
   "outputs": [
    {
     "name": "stdout",
     "output_type": "stream",
     "text": [
      "Find in train data ...\n",
      "0 0\n",
      "Find in test data ...\n",
      "0 0\n"
     ]
    }
   ],
   "source": [
    "def fetch_dim(image, label):\n",
    "    height, width, channels = image.shape\n",
    "    return label, height, width\n",
    "\n",
    "def find_min_size(is_train, threshold):\n",
    "  # Pick the corresponding path\n",
    "  if is_train:\n",
    "    print('Find in train data ...')\n",
    "    data_path = train_path\n",
    "  else:\n",
    "    print('Find in test data ...')\n",
    "    data_path = test_path\n",
    "\n",
    "  # Get the labels, sorted, in this case it's just ['cats', 'dogs']\n",
    "  classes = sorted(os.listdir(data_path))\n",
    "\n",
    "  # Array to store image size\n",
    "  image_sizes = []\n",
    "\n",
    "  # Loop over each dir, each corresponds to a label\n",
    "  for label in classes:\n",
    "      # Get dir full path\n",
    "      dir = os.path.join(data_path, label)\n",
    "      \n",
    "      if '.DS_Store' not in dir:\n",
    "          # Loop over the images in the dir\n",
    "          for image_file in os.listdir(dir):\n",
    "              image_path = os.path.join(dir, image_file)\n",
    "\n",
    "              # Calculate size\n",
    "              if 'HEIC' not in image_path:\n",
    "                image = cv2.imread(image_path)\n",
    "                image_sizes.append(fetch_dim(image, label))\n",
    "\n",
    "  # Return all image sizes that are less than the size threshold\n",
    "  return [elem for elem in image_sizes if elem[0] == classes[0] and elem[1] < threshold and elem[2] < threshold], [elem for elem in image_sizes if elem[0] == classes[1] and elem[1] < threshold and elem[2] < threshold]\n",
    "\n",
    "train_min_size = find_min_size(True, 200)\n",
    "print(len(train_min_size[0]), len(train_min_size[1]))\n",
    "\n",
    "test_min_size = find_min_size(False, 200)\n",
    "print(len(test_min_size[0]), len(test_min_size[1]))\n",
    "\n",
    "# Set fixed_size constant\n",
    "fixed_size = tuple([200, 200])"
   ]
  },
  {
   "cell_type": "markdown",
   "metadata": {
    "id": "IdTcy8iBKthI"
   },
   "source": [
    "## Feature Extractor Function"
   ]
  },
  {
   "cell_type": "markdown",
   "metadata": {
    "id": "lbdBULigJ7j6"
   },
   "source": [
    "I use Color Histogram from OpenCV as my feature, with the following detail:\n",
    "1. Using three channels (RGB), denoted by [0 1 2]\n",
    "2. The color range is default, 0 to 256\n",
    "3. There are 8 bins (I handpick this, no particular reason).\n",
    "\n",
    "The above scenario results in a feature vector of size 512."
   ]
  },
  {
   "cell_type": "code",
   "execution_count": 5,
   "metadata": {
    "id": "-wxrN-g720xR"
   },
   "outputs": [],
   "source": [
    "bins = 8\n",
    "\n",
    "# Color Histogram Feature\n",
    "# a. Convert the image to HSV color-space\n",
    "# b. Compute the color histogram\n",
    "# c. Normalize the histogram\n",
    "def compute_histogram(image, mask=None):\n",
    "    hist = cv2.calcHist([cv2.cvtColor(image, cv2.COLOR_BGR2HSV)], [0, 1, 2], None, [bins, bins, bins], [0, 256, 0, 256, 0, 256])\n",
    "    cv2.normalize(hist, hist)\n",
    "    return hist.flatten()"
   ]
  },
  {
   "cell_type": "markdown",
   "metadata": {
    "id": "-wCRLB8DK_yG"
   },
   "source": [
    "## Precompute the Features for Train and Test Data"
   ]
  },
  {
   "cell_type": "code",
   "execution_count": 6,
   "metadata": {
    "colab": {
     "base_uri": "https://localhost:8080/",
     "height": 187
    },
    "id": "Vi5oQU9V3H3y",
    "outputId": "fa7e40fc-35c1-4466-a796-6c26e1f27112"
   },
   "outputs": [
    {
     "name": "stdout",
     "output_type": "stream",
     "text": [
      "Precomputing train data features...\n",
      "Time elapsed: 0:00:00.116182\n",
      "Processed dir: centralpark\n",
      "Time elapsed: 0:00:00.248634\n",
      "Processed dir: timesquare\n",
      "Precomputing test data features...\n",
      "Time elapsed: 0:00:00.029898\n",
      "Processed dir: centralpark\n",
      "Time elapsed: 0:00:00.054528\n",
      "Processed dir: timesquare\n"
     ]
    }
   ],
   "source": [
    "image_sizes = []\n",
    "\n",
    "def precompute_features(is_train, is_timed):\n",
    "  if is_timed:\n",
    "    start = datetime.now()\n",
    "\n",
    "  # Pick the corresponding path\n",
    "  if is_train:\n",
    "    print('Precomputing train data features...')\n",
    "    data_path = train_path\n",
    "  else:\n",
    "    print('Precomputing test data features...')\n",
    "    data_path = test_path\n",
    "\n",
    "  # Placeholder for returned features and labels\n",
    "  features = []\n",
    "  labels = []\n",
    "\n",
    "  # Get the labels, sorted, in this case it's just ['cats', 'dogs']\n",
    "  classes = sorted(os.listdir(data_path))\n",
    "\n",
    "  # Loop over each dir, each corresponds to a label\n",
    "  for label in classes:\n",
    "      # Get dir full path\n",
    "      dir = os.path.join(data_path, label)\n",
    "\n",
    "      if '.DS_Store' not in dir:\n",
    "          # Loop over the images in the dir\n",
    "          for image_file in os.listdir(dir):\n",
    "              image_path = os.path.join(dir, image_file)\n",
    "\n",
    "              # Resize image, refer to the previous constant\n",
    "              if 'HEIC' not in image_path:\n",
    "                image = cv2.imread(image_path)\n",
    "                image_sizes.append(fetch_dim(image, label))\n",
    "                image = cv2.resize(image, fixed_size)\n",
    "\n",
    "              # Extract three different features\n",
    "              hist = compute_histogram(image) \n",
    "              # print(hist.shape) #(512, )\n",
    "\n",
    "              # Append to placeholder\n",
    "              features.append(hist)\n",
    "              labels.append(label)\n",
    "\n",
    "          print(\"Time elapsed: {}\".format(datetime.now() - start)) \n",
    "          print(\"Processed dir: {}\".format(label))\n",
    "    \n",
    "  return np.array(features), labels\n",
    "\n",
    "train_features, train_labels = precompute_features(True, True)\n",
    "test_features, test_labels = precompute_features(False, True)"
   ]
  },
  {
   "cell_type": "markdown",
   "metadata": {
    "id": "3nz3ruYKuah7"
   },
   "source": [
    "## Scatter Plot and Hand-Drawn Classifier"
   ]
  },
  {
   "cell_type": "markdown",
   "metadata": {
    "id": "KiyvKwauultN"
   },
   "source": [
    "The total number of features are 512, i.e. a vector of size 512, from the Color Histogram.\n",
    "\n",
    "Hence, for the scatter plot, I'm going to separate the vector into two vectors of size 256 each and then take the average of each of them, resulting in 2D feature.\n",
    "\n",
    "First, some sanity check on our features."
   ]
  },
  {
   "cell_type": "code",
   "execution_count": 7,
   "metadata": {
    "colab": {
     "base_uri": "https://localhost:8080/",
     "height": 51
    },
    "id": "wu3_9AoEHj9O",
    "outputId": "d15d8877-fedd-4913-82be-866d2faefaef"
   },
   "outputs": [
    {
     "name": "stdout",
     "output_type": "stream",
     "text": [
      "(192, 512)\n",
      "(48, 512)\n"
     ]
    }
   ],
   "source": [
    "print(train_features.shape)\n",
    "print(test_features.shape)"
   ]
  },
  {
   "cell_type": "markdown",
   "metadata": {
    "id": "JC46CSDeORMY"
   },
   "source": [
    "Convert the 512 sized vector into a vector of size 2 using the method I've mentioned before."
   ]
  },
  {
   "cell_type": "code",
   "execution_count": 8,
   "metadata": {
    "id": "BuIEEbcl6CYu"
   },
   "outputs": [],
   "source": [
    "feature_dim = len(train_features[0])\n",
    "\n",
    "# Take the features from the train set\n",
    "train_hist_1 = train_features[:, 0:(feature_dim//2)]\n",
    "train_hist_2 = train_features[:, (feature_dim//2):feature_dim]\n",
    "\n",
    "# Take the average of those features\n",
    "train_avg_hist_1 = train_hist_1.mean(axis=1) # (192, )\n",
    "train_avg_hist_2 = train_hist_2.mean(axis=1) # (192, )\n",
    "\n",
    "# Find indexes where the label corres\n",
    "c_train_idxs = [idx for idx, label in enumerate(train_labels) if label == 'centralpark']\n",
    "t_train_idxs = [idx for idx, label in enumerate(train_labels) if label == 'timesquare']\n",
    "\n",
    "# Use the idx to slice the corresponding feature\n",
    "c_train_avg_hist_1 = train_avg_hist_1[c_train_idxs]\n",
    "c_train_avg_hist_2 = train_avg_hist_2[c_train_idxs]\n",
    "\n",
    "t_train_avg_hist_1 = train_avg_hist_1[t_train_idxs]\n",
    "t_train_avg_hist_2 = train_avg_hist_2[t_train_idxs]"
   ]
  },
  {
   "cell_type": "markdown",
   "metadata": {
    "id": "-tkKYamhOYoK"
   },
   "source": [
    "Plot the points as a Scatter Plot for Training Set"
   ]
  },
  {
   "cell_type": "code",
   "execution_count": 9,
   "metadata": {
    "colab": {
     "base_uri": "https://localhost:8080/",
     "height": 295
    },
    "id": "WKGDY5SR6kQf",
    "outputId": "34915371-d987-4a18-dacc-83a2d474c99f"
   },
   "outputs": [
    {
     "data": {
      "image/png": "[encoded data removed]",
      "text/plain": [
       "<Figure size 432x288 with 1 Axes>"
      ]
     },
     "metadata": {
      "needs_background": "light"
     },
     "output_type": "display_data"
    }
   ],
   "source": [
    "fig, ax = plt.subplots()\n",
    "\n",
    "ax.scatter(c_train_avg_hist_1, c_train_avg_hist_2, c='black', label='centralpark', edgecolors='none')\n",
    "ax.scatter(t_train_avg_hist_1, t_train_avg_hist_2, c='pink', label='timesquare', edgecolors='none')\n",
    "\n",
    "ax.set_xlabel('Pixel Value')     \n",
    "ax.set_ylabel('Frequency')\n",
    "\n",
    "ax.set_xlim(0, 0.05)\n",
    "ax.set_ylim(-0.01, 0.04)\n",
    "\n",
    "ax.set_title('Scatter Plot of Color Histogram Feature for Training Set')\n",
    "ax.legend()\n",
    "ax.grid(True)\n",
    "\n",
    "plt.show()"
   ]
  },
  {
   "cell_type": "markdown",
   "metadata": {
    "id": "Cbriet53PsUz"
   },
   "source": [
    "We can see that some reasonable hand-drawn classifier would be a horizontal line drawn somewhere around $0.002$ to $0.004$. \n",
    "\n",
    "Let's take $0.003$ and see if that separates well the data. "
   ]
  },
  {
   "cell_type": "code",
   "execution_count": 10,
   "metadata": {
    "colab": {
     "base_uri": "https://localhost:8080/",
     "height": 295
    },
    "id": "wpfZK6bfRNeI",
    "outputId": "a7dcc681-4e5b-4b1b-b90b-4da443f5e938"
   },
   "outputs": [
    {
     "data": {
      "image/png": "[encoded data removed]",
      "text/plain": [
       "<Figure size 432x288 with 1 Axes>"
      ]
     },
     "metadata": {
      "needs_background": "light"
     },
     "output_type": "display_data"
    }
   ],
   "source": [
    "fig, ax = plt.subplots()\n",
    "\n",
    "ax.scatter(c_train_avg_hist_1, c_train_avg_hist_2, c='black', label='centralpark', edgecolors='none')\n",
    "ax.scatter(t_train_avg_hist_1, t_train_avg_hist_2, c='pink', label='timesquare', edgecolors='none')\n",
    "\n",
    "x_plots = np.arange(0, 0.05, 0.0005)\n",
    "y_plots = np.array([0.003]*len(x_plots)) \n",
    "ax.plot(x_plots, y_plots, color='red')\n",
    "\n",
    "ax.set_xlabel('Pixel Value')     \n",
    "ax.set_ylabel('Frequency')     \n",
    "\n",
    "ax.set_xlim(0, 0.05)\n",
    "ax.set_ylim(-0.01, 0.04)\n",
    "\n",
    "ax.set_title('Scatter Plot and the Hand-Drawn Classifier for Training Set')\n",
    "ax.legend()\n",
    "ax.grid(True)\n",
    "\n",
    "plt.show()"
   ]
  },
  {
   "cell_type": "markdown",
   "metadata": {
    "id": "dTlOSb2ER3Lc"
   },
   "source": [
    "From the plot above, we can see that $y=0.003$ seems to be good enough even though we can't achieve zero error rate (which is very hard anyway if we only  use a simple decision boundary like a straight line or even a curve).\n",
    "\n",
    "Let's now make one for the test set."
   ]
  },
  {
   "cell_type": "code",
   "execution_count": 11,
   "metadata": {
    "id": "5cFv_BzeSW0G"
   },
   "outputs": [],
   "source": [
    "feature_dim = len(test_features[0])\n",
    "\n",
    "# Take the features from both train and test\n",
    "test_hist_1 = test_features[:, 0:(feature_dim//2)]\n",
    "test_hist_2 = test_features[:, (feature_dim//2):feature_dim]\n",
    "\n",
    "# Take the average of those 13 features\n",
    "test_avg_hist_1 = test_hist_1.mean(axis=1) # (24, )\n",
    "test_avg_hist_2 = test_hist_2.mean(axis=1) # (24, )\n",
    "\n",
    "# Find indexes where the label is cats/dogs\n",
    "c_test_idxs = [idx for idx, label in enumerate(test_labels) if label == 'centralpark']\n",
    "t_test_idxs = [idx for idx, label in enumerate(test_labels) if label == 'timesquare']\n",
    "\n",
    "# Use the idx to slice the corresponding feature\n",
    "c_test_avg_hist_1 = test_avg_hist_1[c_test_idxs]\n",
    "c_test_avg_hist_2 = test_avg_hist_2[c_test_idxs]\n",
    "\n",
    "t_test_avg_hist_1 = test_avg_hist_1[t_test_idxs]\n",
    "t_test_avg_hist_2 = test_avg_hist_2[t_test_idxs]"
   ]
  },
  {
   "cell_type": "code",
   "execution_count": 12,
   "metadata": {
    "colab": {
     "base_uri": "https://localhost:8080/",
     "height": 295
    },
    "id": "SnVpPjHYSeCZ",
    "outputId": "7e2e58ed-c484-4372-f817-e2ce4624f19e"
   },
   "outputs": [
    {
     "data": {
      "image/png": "[encoded data removed]",
      "text/plain": [
       "<Figure size 432x288 with 1 Axes>"
      ]
     },
     "metadata": {
      "needs_background": "light"
     },
     "output_type": "display_data"
    }
   ],
   "source": [
    "fig, ax = plt.subplots()\n",
    "\n",
    "ax.scatter(c_test_avg_hist_1, c_test_avg_hist_2, c='black', label='centralpark', edgecolors='none')\n",
    "ax.scatter(t_test_avg_hist_1, t_test_avg_hist_2, c='pink', label='timesquare', edgecolors='none')\n",
    "\n",
    "ax.set_xlabel('Pixel Value')     \n",
    "ax.set_ylabel('Frequency')     \n",
    "\n",
    "ax.set_xlim(0, 0.05)\n",
    "ax.set_ylim(-0.005, 0.02)\n",
    "\n",
    "ax.set_title('Scatter Plot of Color Histogram Feature for Test Set')\n",
    "ax.legend()\n",
    "ax.grid(True)\n",
    "\n",
    "plt.show()"
   ]
  },
  {
   "cell_type": "markdown",
   "metadata": {
    "id": "lBqTumXjTJI9"
   },
   "source": [
    "We see similar pattern to that of the train set. However, in this case we might want to tweak the horizontal line into something like $y=0.002$. \n"
   ]
  },
  {
   "cell_type": "code",
   "execution_count": 13,
   "metadata": {
    "colab": {
     "base_uri": "https://localhost:8080/",
     "height": 295
    },
    "id": "M9Wk7UhoTYOL",
    "outputId": "6de783e7-9925-45ed-84d7-56457b0cf345"
   },
   "outputs": [
    {
     "data": {
      "image/png": "[encoded data removed]",
      "text/plain": [
       "<Figure size 432x288 with 1 Axes>"
      ]
     },
     "metadata": {
      "needs_background": "light"
     },
     "output_type": "display_data"
    }
   ],
   "source": [
    "fig, ax = plt.subplots()\n",
    "\n",
    "ax.scatter(c_test_avg_hist_1, c_test_avg_hist_2, c='black', label='centralpark', edgecolors='none')\n",
    "ax.scatter(t_test_avg_hist_1, t_test_avg_hist_2, c='pink', label='timesquare', edgecolors='none')\n",
    "\n",
    "x_plots = np.arange(0, 0.05, 0.0005)\n",
    "y_plots = np.array([0.002]*len(x_plots)) \n",
    "ax.plot(x_plots, y_plots, color='red')\n",
    "\n",
    "ax.set_xlabel('Pixel Value')     \n",
    "ax.set_ylabel('Frequency') \n",
    "\n",
    "ax.set_xlim(0, 0.05)\n",
    "ax.set_ylim(-0.005, 0.02)\n",
    "\n",
    "ax.set_title('Scatter Plot and the Hand-Drawn Classifier for Test Set')\n",
    "ax.legend()\n",
    "ax.grid(True)\n",
    "\n",
    "plt.show()"
   ]
  },
  {
   "cell_type": "markdown",
   "metadata": {
    "id": "9RX9orFI1ZjE"
   },
   "source": [
    "Again, we couldn't achieve zero error rate in this case since some points are mixed up with the other groups, i.e. some black points are in the pink area."
   ]
  },
  {
   "cell_type": "markdown",
   "metadata": {
    "id": "WubuVIvaTvhj"
   },
   "source": [
    "# Problem 1.3"
   ]
  },
  {
   "cell_type": "markdown",
   "metadata": {
    "id": "DAVmEqZxUpXI"
   },
   "source": [
    "## The Prior for Both Classes\n",
    "\n",
    "Since I'm taking the images from Google and I don't know the true distribution of both classes, then I'm assuming both are equally likely. Thus, suppose \"Central Park\" is Class 0 and \"Time Square\" is Class 1, then:\n",
    "\n",
    "$$P(y_0) = P(y_1) = 0.5$$\n",
    "\n",
    "Furthermore, we can't omit this prior probability when we do the classification, i.e. computing the posterior probability, because the order won't change anyway. In other words, whether or not we use the prior, the class with the higher probability will stay the same."
   ]
  },
  {
   "cell_type": "markdown",
   "metadata": {
    "id": "c8DhqzyuVHJH"
   },
   "source": [
    "##Multivariate Gaussian Class Conditional Density Functions\n",
    "\n",
    "\n",
    "\n"
   ]
  },
  {
   "cell_type": "markdown",
   "metadata": {
    "id": "8dUTWOlYehsN"
   },
   "source": [
    "Since I'm only using two features, I will try to fit a Multivariate Gaussian Class Conditional Density function. First, we compute the sample mean and covariance matrix for both classes as below."
   ]
  },
  {
   "cell_type": "code",
   "execution_count": 14,
   "metadata": {
    "colab": {
     "base_uri": "https://localhost:8080/",
     "height": 119
    },
    "id": "x4ftUi16VsUt",
    "outputId": "64a19463-e62a-4e23-842a-55cb5a05fec6"
   },
   "outputs": [
    {
     "name": "stdout",
     "output_type": "stream",
     "text": [
      "[0.021942   0.00142054]\n",
      "[[ 2.73400980e-05 -1.94698046e-06]\n",
      " [-1.94698046e-06  5.67771370e-06]]\n",
      "[0.02571169 0.00871228]\n",
      "[[ 4.41106247e-05 -1.23979111e-05]\n",
      " [-1.23979111e-05  3.31023119e-05]]\n"
     ]
    }
   ],
   "source": [
    "c_train_mean = np.array([np.mean(c_train_avg_hist_1), np.mean(c_train_avg_hist_2)])\n",
    "# To compute the covariance matrix is a little tricky, we need to first\n",
    "# stack vertically observation from both variables, because np.cov\n",
    "# accepts input of size (n_var, n_obs)\n",
    "c_train_cov = np.cov(np.vstack([c_train_avg_hist_1, c_train_avg_hist_2]))\n",
    "\n",
    "t_train_mean = np.array([np.mean(t_train_avg_hist_1), np.mean(t_train_avg_hist_2)])\n",
    "t_train_cov = np.cov(np.vstack([t_train_avg_hist_1, t_train_avg_hist_2]))\n",
    "\n",
    "print(c_train_mean)\n",
    "print(c_train_cov)\n",
    "\n",
    "print(t_train_mean)\n",
    "print(t_train_cov)"
   ]
  },
  {
   "cell_type": "markdown",
   "metadata": {
    "id": "yzL8HRawiD2u"
   },
   "source": [
    "We will then use the Gaussian function to plot our test data.\n",
    "But first, let us revisit our previous scatter plot for the test data."
   ]
  },
  {
   "cell_type": "code",
   "execution_count": 15,
   "metadata": {
    "colab": {
     "base_uri": "https://localhost:8080/",
     "height": 295
    },
    "id": "gumyvOAtiL9A",
    "outputId": "7142818b-a460-4373-884c-2bb909aaea6d"
   },
   "outputs": [
    {
     "data": {
      "image/png": "[encoded data removed]",
      "text/plain": [
       "<Figure size 432x288 with 1 Axes>"
      ]
     },
     "metadata": {
      "needs_background": "light"
     },
     "output_type": "display_data"
    }
   ],
   "source": [
    "fig, ax = plt.subplots()\n",
    "\n",
    "ax.scatter(c_test_avg_hist_1, c_test_avg_hist_2, c='black', label='centralpark', edgecolors='none')\n",
    "ax.scatter(t_test_avg_hist_1, t_test_avg_hist_2, c='pink', label='timesquare', edgecolors='none')\n",
    "\n",
    "x_plots = np.arange(0, 0.05, 0.0005)\n",
    "y_plots = np.array([0.002]*len(x_plots)) \n",
    "ax.plot(x_plots, y_plots, color='red')\n",
    "\n",
    "ax.set_xlabel('Pixel Value')     \n",
    "ax.set_ylabel('Frequency')     \n",
    "\n",
    "ax.set_xlim(0, 0.05)\n",
    "ax.set_ylim(-0.005, 0.02)\n",
    "\n",
    "ax.set_title('Scatter Plot and the Hand-Drawn Classifier for Test Set')\n",
    "ax.legend()\n",
    "ax.grid(True)\n",
    "\n",
    "plt.show()"
   ]
  },
  {
   "cell_type": "markdown",
   "metadata": {
    "id": "loqTNBQCiO2l"
   },
   "source": [
    "Now, let's plot using our Gaussian and let's see if it resembles the true distribution as above. First, we compute the probability of each point being in each class according to the Gaussian. I will use SciPy here. Then, we pick the class with the bigger probability as our classification decision."
   ]
  },
  {
   "cell_type": "code",
   "execution_count": 16,
   "metadata": {
    "id": "_83UO-rAiVqX"
   },
   "outputs": [],
   "source": [
    "zipped_test_features = np.array(list(zip(test_avg_hist_1, test_avg_hist_2)))\n",
    "\n",
    "c_probs = multivariate_normal.pdf(zipped_test_features, mean=c_train_mean, cov=c_train_cov)\n",
    "t_probs = multivariate_normal.pdf(zipped_test_features, mean=t_train_mean, cov=t_train_cov)\n",
    "\n",
    "# True means it's Central Park, Time Square otherwise\n",
    "classification_result = c_probs > t_probs \n",
    "# print(classification_result[0:10])\n",
    "\n",
    "# Get the indexes for each class\n",
    "c_test_idxs = [idx for idx, label in enumerate(classification_result) if label]\n",
    "t_test_idxs = [idx for idx, label in enumerate(classification_result) if not label]\n",
    "\n",
    "# print(c_test_idxs[0:10])\n",
    "# print(t_test_idxs[0:10])\n",
    "\n",
    "# Use the idx to slice the corresponding data\n",
    "c_test_feature = zipped_test_features[c_test_idxs]\n",
    "t_test_feature = zipped_test_features[t_test_idxs]\n",
    "\n",
    "# print(c_test_feature[0:10])\n",
    "# print(t_test_feature[0:10])"
   ]
  },
  {
   "cell_type": "code",
   "execution_count": 17,
   "metadata": {
    "colab": {
     "base_uri": "https://localhost:8080/",
     "height": 295
    },
    "id": "mMt27a4Ppf4a",
    "outputId": "ce1aff32-807f-48af-d0ed-b1bd9da6d848"
   },
   "outputs": [
    {
     "data": {
      "image/png": "[encoded data removed]",
      "text/plain": [
       "<Figure size 432x288 with 1 Axes>"
      ]
     },
     "metadata": {
      "needs_background": "light"
     },
     "output_type": "display_data"
    }
   ],
   "source": [
    "fig, ax = plt.subplots()\n",
    "\n",
    "ax.scatter(c_test_feature[:, 0], c_test_feature[:, 1], c='black', label='centralpark', edgecolors='none')\n",
    "ax.scatter(t_test_feature[:, 0], t_test_feature[:, 1], c='pink', label='timesquare', edgecolors='none')\n",
    "\n",
    "ax.set_xlabel('Pixel Value')     \n",
    "ax.set_ylabel('Frequency')  \n",
    "\n",
    "ax.set_xlim(0, 0.05)\n",
    "ax.set_ylim(-0.005, 0.02)\n",
    "\n",
    "ax.set_title('Scatter Plot for Test Set using Gaussian Classifier')\n",
    "ax.legend()\n",
    "ax.grid(True)\n",
    "\n",
    "plt.show()"
   ]
  },
  {
   "cell_type": "markdown",
   "metadata": {
    "id": "mAx4CWQyrn6f"
   },
   "source": [
    "We can see that it closely resembles the true distribution of the test set. However, we can see that there are bunch of misclassifications there. For example, the pink dots that lie between $y=0$ and $y=0.002$ should actually be black according to the label in the test set."
   ]
  },
  {
   "cell_type": "markdown",
   "metadata": {
    "id": "gu66M-KUscRz"
   },
   "source": [
    "Now, let's draw a new decision boundary that yields minimum error rate for our Gaussian model assuming it is a correct fit. I am thinking of creating two lines: \n",
    "\n",
    "1. $y=y_0$ where $y_0$ is around $0.0047$\n",
    "2. $x=x_0$ where $x_0$ is around $0.0295$\n",
    "\n",
    "Then, I could create some kind of a decision tree with the rules as below:\n",
    "\n",
    "if y < 0.0047 and x < 0.0295:\n",
    "\n",
    "    classify Black/CentralPark\n",
    "\n",
    "  else:\n",
    "\n",
    "    classify Pink/TimeSquare\n",
    "\n",
    "This will yield zero error rate, again assuming the fit is correct.\n",
    "See the plot below.\n",
    "\n",
    "This decision boundary is a little bit different from the one I draw previously in the test set. Previously, there is no way we could design a simple decision boundary to achieve zero error rate. Thus, previously, I just draw one line because we couldn't achieve minimum error rate anyway."
   ]
  },
  {
   "cell_type": "code",
   "execution_count": 18,
   "metadata": {
    "colab": {
     "base_uri": "https://localhost:8080/",
     "height": 295
    },
    "id": "iJsDi-CXvBLz",
    "outputId": "a724ecc9-3559-4e41-c839-026cee0b9e8c"
   },
   "outputs": [
    {
     "data": {
      "image/png": "[encoded data removed]",
      "text/plain": [
       "<Figure size 432x288 with 1 Axes>"
      ]
     },
     "metadata": {
      "needs_background": "light"
     },
     "output_type": "display_data"
    }
   ],
   "source": [
    "fig, ax = plt.subplots()\n",
    "\n",
    "ax.scatter(c_test_feature[:, 0], c_test_feature[:, 1], c='black', label='centralpark', edgecolors='none')\n",
    "ax.scatter(t_test_feature[:, 0], t_test_feature[:, 1], c='pink', label='timesquare', edgecolors='none')\n",
    "\n",
    "x_plots = np.arange(0, 0.05, 0.0005)\n",
    "y_plots = np.array([0.0047]*len(x_plots)) \n",
    "ax.plot(x_plots, y_plots, color='red')\n",
    "\n",
    "y_plots = np.arange(-0.005, 0.02, 0.0005)\n",
    "x_plots = np.array([0.0295]*len(y_plots)) \n",
    "ax.plot(x_plots, y_plots, color='red')\n",
    "\n",
    "ax.set_xlabel('Pixel Value')     \n",
    "ax.set_ylabel('Frequency')     \n",
    "\n",
    "ax.set_xlim(0, 0.05)\n",
    "ax.set_ylim(-0.005, 0.02)\n",
    "\n",
    "ax.set_title('Scatter Plot for Test Set using Gaussian Classifier and the Hand-Drawn Classifier')\n",
    "ax.legend()\n",
    "ax.grid(True)\n",
    "\n",
    "plt.show()"
   ]
  },
  {
   "cell_type": "markdown",
   "metadata": {
    "id": "ZR49Py5rxvNS"
   },
   "source": [
    "Finally, the error rate of this Gaussian classifier is computed as below."
   ]
  },
  {
   "cell_type": "code",
   "execution_count": 19,
   "metadata": {
    "colab": {
     "base_uri": "https://localhost:8080/",
     "height": 51
    },
    "id": "ZWjZ5sP7xz37",
    "outputId": "9c96406e-76ba-483e-c028-515226167b85"
   },
   "outputs": [
    {
     "name": "stdout",
     "output_type": "stream",
     "text": [
      "Test error rate: 0.22916666666666666\n",
      "Test accuracy: 0.7708333333333334\n"
     ]
    }
   ],
   "source": [
    "classification_labels = []\n",
    "\n",
    "for label in classification_result:\n",
    "  if label:\n",
    "    classification_labels.append('centralpark')\n",
    "  else:\n",
    "    classification_labels.append('timesquare')\n",
    "\n",
    "false_prediction = 0\n",
    "for i in range(0, len(classification_result)):\n",
    "  if classification_labels[i] != test_labels[i]:\n",
    "    false_prediction = false_prediction + 1\n",
    "\n",
    "error_rate = false_prediction/len(test_labels)\n",
    "\n",
    "print('Test error rate: {}'.format(error_rate))\n",
    "print('Test accuracy: {}'.format(1 - error_rate))"
   ]
  },
  {
   "cell_type": "markdown",
   "metadata": {
    "id": "LAOffkvfzUVG"
   },
   "source": [
    "# Problem 2"
   ]
  },
  {
   "cell_type": "markdown",
   "metadata": {
    "collapsed": true,
    "id": "LJA1xx6gzUVG"
   },
   "source": [
    "Research an application for computer vision, describe the underlying problem and the methods used to solve it. If the application was presented in popular media (e.g., NY Times), track down the scientific methods used in the academic literature. Include references. It is ok if this is related to what you are thinking about for your final project! This write-up should be a two to three pages including images and diagrams as needed. "
   ]
  },
  {
   "cell_type": "markdown",
   "metadata": {
    "id": "BQQxG-12SC8J"
   },
   "source": [
    "# Topic: Object Detection Algorithms"
   ]
  },
  {
   "cell_type": "markdown",
   "metadata": {
    "id": "lRDST6emSNpj"
   },
   "source": [
    "I pick Object Detection as the topic because it has massive applications for so many use cases, e.g. pose estimation and self-driving cars. My explanations will cover the following:\n",
    "\n",
    "1. The problem description\n",
    "2. The underlying problem\n",
    "3. The popular algorithms for object detection and the advantage/disadvantage of using them \n",
    "\n",
    "I will cover four algorithms: R-CNN, Fast R-CNN, Faster R-CNN and YOLO.\n",
    "\n",
    "Below are the references that I will use for the explanations:\n",
    "1. [Rich feature hierarchies for accurate object detection and semantic segmentation](https://arxiv.org/pdf/1311.2524.pdf)\n",
    "2. [Fast R-CNN](https://arxiv.org/pdf/1504.08083.pdf)\n",
    "3. [Faster R-CNN: Towards Real-Time Object\n",
    "Detection with Region Proposal Networks](https://arxiv.org/pdf/1506.01497.pdf)\n",
    "4. [You Only Look Once:\n",
    "Unified, Real-Time Object Detection](https://arxiv.org/pdf/1506.02640v5.pdf)\n",
    "5. http://cs231n.stanford.edu/slides/2017/cs231n_2017_lecture11.pdf"
   ]
  },
  {
   "cell_type": "markdown",
   "metadata": {
    "id": "lZrENq6YScbu"
   },
   "source": [
    "## 1. Problem Description"
   ]
  },
  {
   "cell_type": "markdown",
   "metadata": {
    "id": "unsbCxRgWV2G"
   },
   "source": [
    "Object detection is different from image classification in a sense that instead of only determining what class the image belongs to, we also need to predict the bounding box around the object of interest within an image. There could be more than one bounding box for multiple objects. They could be the same/similar objects (e.g. flock of birds, people in streets) or different objects (e.g. vehicles in streets which could be cars, motorbikes, buses, etc.). Note that in most problems, you don't know how many objects the model should detect inside an image, which makes this problem very challenging in nature."
   ]
  },
  {
   "cell_type": "markdown",
   "metadata": {
    "id": "6QCHJhlfWzWS"
   },
   "source": [
    "<img src=\"images/fig1.png\">"
   ]
  },
  {
   "cell_type": "markdown",
   "metadata": {
    "id": "ClSXRmN3jxLu"
   },
   "source": [
    "Figure 1: Object Detection Examples [3]"
   ]
  },
  {
   "cell_type": "markdown",
   "metadata": {
    "id": "64N07uSasVDo"
   },
   "source": [
    "## 2. The Underlying Problem\n",
    "\n"
   ]
  },
  {
   "cell_type": "markdown",
   "metadata": {
    "id": "acmx1aUtwHg1"
   },
   "source": [
    "We might want to ask why we couldn't approach this problem the same as we approach image classification, for example using CNN followed by dense layers. The answer would be simply because as I've mentioned before, we don't have the information of how many objects are to be detected before we actually start scanning the image itself. Thus, this makes the size of our output layer to vary. \n",
    "\n",
    "We could still, however, try to make a workaround by dividing the images into several distinct regions and for each region, we apply our CNN to classify whether or not there is object present. Let's call this the Naive approach for reference in the later section of my explanation. But, then again, there is a problem. Our objects of interest, with a very high odds, could have different spatial locations within the image (they might even have overlap bounding boxes) and they could have different aspect ratios as well, which affects the size of your input layer. The consequence would be you need to be very granular, i.e. defining very small regions and ends up having big number of regions, which of course, is computationally expensive. "
   ]
  },
  {
   "cell_type": "markdown",
   "metadata": {
    "id": "cGEDS4Mw0-za"
   },
   "source": [
    "## 3. The Algorithms"
   ]
  },
  {
   "cell_type": "markdown",
   "metadata": {},
   "source": [
    "The algorithms below are the most popular ones and they handle the underlying problems that I've pointed out above."
   ]
  },
  {
   "cell_type": "markdown",
   "metadata": {},
   "source": [
    "### 3.1 R-CNN"
   ]
  },
  {
   "cell_type": "markdown",
   "metadata": {},
   "source": [
    "R-CNN is proposed by Ross Girshick, et al. in [1], from UC Berkeley. The idea is fairly simple actually. Instead of defining a big number of regions, they define only 2000 regions. But, the regions are not picked at random. They propose a selective search method to get them. The algorithm in the nutshell is as below:\n",
    "\n",
    "1. Generate initial subsegmentation where we generate many candidate regions (far greater than 2000). This is the same as the Naive approach.\n",
    "2. We apply a greedy algorithm to combine similar regions into a larger one, recursively (so combined regions might be combined again).\n",
    "3. The resulting regions after applying the greedy algorithm are our final candidate regions, which are 2000 in total\n",
    "\n",
    "The scheme is as in the picture below."
   ]
  },
  {
   "cell_type": "markdown",
   "metadata": {},
   "source": [
    "<img src=\"images/fig2.png\">"
   ]
  },
  {
   "cell_type": "markdown",
   "metadata": {},
   "source": [
    "The candidate regions are then fed into a CNN, as the feature extractor, resulting in a feature vector of size 4096. It is then fed to dense layers and finally we have SVM (one vs rest) at the end of our pipeline to classify whether or not the object is present within the candidate region. The classification scheme is as in the picture below."
   ]
  },
  {
   "cell_type": "markdown",
   "metadata": {},
   "source": [
    "<img src=\"images/fig3.png\">"
   ]
  },
  {
   "cell_type": "markdown",
   "metadata": {},
   "source": [
    "In addition to predict the presence of the object, this algorithm also predicts four values, which are the offset values. This is to accommodate if the object doesn't fully lie within a certain candidate region, e.g. if it is a car, it's tire might be outside the candidate region. This way, the bounding box might be more accurate. \n",
    "\n",
    "Still, there are problems associated with this R-CNN, which are:\n",
    "1. It doesn't really speed up the computation as you still have to classify 2000 region proposals per image\n",
    "2. Based on [1], it takes 47 seconds in average to classify an image, something that is not suitable for production scale\n",
    "3. The selective search algorithm is greedy, meaning that it is fixed and no learning is involved. This, of course, might yield unrelevant regions."
   ]
  },
  {
   "cell_type": "markdown",
   "metadata": {},
   "source": [
    "### 3.2 Fast R-CNN"
   ]
  },
  {
   "cell_type": "markdown",
   "metadata": {},
   "source": [
    "This is the continuation of R-CNN, basically, trying to fix the computational drawback of R-CNN. The author is still the same [2], but was under different umbrella, which was for Microsoft Research. Here are the differences:\n",
    "\n",
    "1. This time around, you don't feed the region proposals to the CNN. Instead, you feed the image directly to the CNN, resulting into a convolutional feature map.\n",
    "2. Then, we do the usuals, which is applying the selective search algorithm. We identify the candidate regions and warp them into squares just like a normal R-CNN. RoI pooling layer is then used to fix the size before it is fed to the dense layers. \n",
    "3. Finally, insted of using one vs rest SVM, the author uses softmax, as it is proven to yield an improvement for the mAP (the metric used), even though not as significant.\n",
    "\n",
    "Below is the updated scheme:"
   ]
  },
  {
   "cell_type": "markdown",
   "metadata": {},
   "source": [
    "<img src=\"images/fig4.png\">"
   ]
  },
  {
   "cell_type": "markdown",
   "metadata": {},
   "source": [
    "Fast R-CNN is faster than R-CNN (of course, as the name claims to be) because you don't feed the 2000 regions to the CNN every time. The convolution operation is done only once per image, i.e. when creating the convolutional feature map. It's a simple trick but it does wonders in my opinion. Below are the performance comparison, speed wise, for R-CNN and Fast R-CNN."
   ]
  },
  {
   "cell_type": "markdown",
   "metadata": {},
   "source": [
    "<img src=\"images/fig5.png\">"
   ]
  },
  {
   "cell_type": "markdown",
   "metadata": {},
   "source": [
    "The training time speed up is around 10-20 times quicker meanwhile for testing time, it could be as extreme as 200 times quicker, that's the case when using SVD for large images. However, Fast R-CNN still doesn't solve the problem that the greedy algorithm is fixed and no learning is involved. Again, this might result in unrelevant regions produced."
   ]
  },
  {
   "cell_type": "markdown",
   "metadata": {},
   "source": [
    "### 3.3 Faster R-CNN"
   ]
  },
  {
   "cell_type": "markdown",
   "metadata": {},
   "source": [
    "The naming is indeed funny, but it comes from different author this time, which is Shaoqing Ren, et al. [3]. This approach is introduced exactly to solve the problem in R-CNN and Fast R-CNN that I've pointed out before. Now, instead of using a greedy algorithm to select regions, we use the network to learn where are the relevant regions. Here are the differences:\n",
    "\n",
    "1. The initial steps are the same, which is to create a convolutional feature map from the image\n",
    "2. Now, instead of applying selective search algorithm, we create yet another neural network to predict the region proposalsm, straightforwardly called the Region Proposal Network\n",
    "3. The rest of the steps are basically the same, which is to use RoI pooling layer to fix the size before we feed it to the dense layer\n",
    "4. The output is also the same as R-CNN and Fast R-CNN, which is the presence of the object and the offset values if the object is present\n",
    "\n",
    "Below is the updated scheme:"
   ]
  },
  {
   "cell_type": "markdown",
   "metadata": {},
   "source": [
    "<img src=\"images/fig6.png\">"
   ]
  },
  {
   "cell_type": "markdown",
   "metadata": {},
   "source": [
    "As I've explained, the difference is solely on the way that the region is defined, which is now determined by the RPN (Region Proposal Network). The high level detail of the network is depicted in the picture below."
   ]
  },
  {
   "cell_type": "markdown",
   "metadata": {},
   "source": [
    "<img src=\"images/fig7.png\">"
   ]
  },
  {
   "cell_type": "markdown",
   "metadata": {},
   "source": []
  },
  {
   "cell_type": "markdown",
   "metadata": {},
   "source": [
    "### 3.4 YOLO (You Only Look Once)"
   ]
  },
  {
   "cell_type": "markdown",
   "metadata": {},
   "source": [
    "The naming is now even funnier. As the name suggests, we will look into the image only once, but it will cover all the areas/parts of the image. Previously, in R-CNN variants, we only consider parts of the image which are highly likely to contain the object of interest. YOLO [4] uses a CNN to predict the bounding boxes, outputting probabilities. Take a look at the scheme below."
   ]
  },
  {
   "cell_type": "markdown",
   "metadata": {},
   "source": [
    "<img src=\"images/fig8.png\">"
   ]
  },
  {
   "cell_type": "markdown",
   "metadata": {},
   "source": [
    "The steps in YOLO are as the following:\n",
    "\n",
    "1. We split the input image into $SxS$ grid\n",
    "2. For each grid, we then split again into $m$ bounding boxes\n",
    "3. For each bounding box, the CNN based network will output a class probability and the offset values, pretty much the same as R-CNN\n",
    "4. Finally, to identify an object, we select the bounding boxes which have the class probability above the threshold value for that class. Notice that this way, we might have bounding boxes that contains multiple objects. Looking at the scheme above, we can see that there are bounding boxes which contain both the dog and the bike."
   ]
  },
  {
   "cell_type": "markdown",
   "metadata": {},
   "source": [
    "YOLO, however is not perfect. YOLO imposes strong spatial constraints on bounding box predictions since each grid cell only predicts two boxes\n",
    "and can only have one class. This spatial constraint limits the number of nearby objects that YOLO could predict. YOLO struggles with small objects that appear in groups, such as flocks of birds.\n",
    "\n",
    "Since YOLO learns to predict bounding boxes from labeled data, it struggles to generalize to objects in new or unusual aspect ratios or configurations. YOLO also uses relatively coarse features for predicting bounding boxes since our architecture has multiple downsampling layers from the input image.\n",
    "\n",
    "While YOLO is trained on a loss function that approximates detection performance, its loss function treats errors the same in small bounding boxes versus large bounding boxes. A small error in a large box is generally benign but a small error in a small box has a much greater effect. To sum up, YOLO's main source of error is incorrect localizations."
   ]
  },
  {
   "cell_type": "markdown",
   "metadata": {},
   "source": [
    "Despite the limitation, YOLO really brings into realization that we could have a real time object detector that is fairly stable in terms of prediction performance. Below is the FPS (frame per second) comparison of YOLO and other algorithms. FPS basically means how many frame/image can an algorithm process within a second."
   ]
  },
  {
   "cell_type": "markdown",
   "metadata": {},
   "source": [
    "<img src=\"images/fig9.png\">"
   ]
  },
  {
   "cell_type": "markdown",
   "metadata": {},
   "source": [
    "We could see that there is a decrease in accuracy performance, measured by mAP, $70$ for Faster R-CNN with VGG-16, and only $63.4$ for YOLO. But, the difference in speed performance is huge. YOLO could process up to 45 FPS, while Faster R-CNN with VGG-16 could only afford at most 7."
   ]
  }
 ],
 "metadata": {
  "colab": {
   "collapsed_sections": [],
   "name": "HW1.ipynb",
   "provenance": [],
   "toc_visible": true
  },
  "kernelspec": {
   "display_name": "Python 3",
   "language": "python",
   "name": "python3"
  },
  "language_info": {
   "codemirror_mode": {
    "name": "ipython",
    "version": 3
   },
   "file_extension": ".py",
   "mimetype": "text/x-python",
   "name": "python",
   "nbconvert_exporter": "python",
   "pygments_lexer": "ipython3",
   "version": "3.6.5"
  }
 },
 "nbformat": 4,
 "nbformat_minor": 1
}
