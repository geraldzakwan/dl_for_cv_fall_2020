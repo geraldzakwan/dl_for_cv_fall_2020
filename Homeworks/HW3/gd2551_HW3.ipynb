{
 "cells": [
  {
   "cell_type": "markdown",
   "metadata": {},
   "source": [
    "# Deep Learning for Computer Vision:  HW 3\n"
   ]
  },
  {
   "cell_type": "markdown",
   "metadata": {},
   "source": [
    "## Computer Science: COMS W 4995 004\n"
   ]
  },
  {
   "cell_type": "markdown",
   "metadata": {},
   "source": [
    "### Due: October 20, 2020"
   ]
  },
  {
   "cell_type": "markdown",
   "metadata": {},
   "source": [
    "Hi all, here is a check list(rough rubric) for HW3.\n",
    "This is pretty much the same as what questions asked. You might want to check all those below\n",
    "before submit your HW.\n",
    "\n",
    "a)  60 points\n",
    "Will be focusing on whether you satisfied all required conditions when building and training your network. Points will be (roughly) evenly allocated to the following conditions.\n",
    "1. If you implemented each (hidden, output, loss) layer type as separate classes and had all mentioned functions for each class.\n",
    "2. If you Implement a MLP class with all mentioned functions.\n",
    "3. If you used the required activation function.\n",
    "4. If you used softmax.\n",
    "5. If loss is correctly computed.\n",
    "6. Layers’ dimensions are properly passed as required.\n",
    "7. Training parameters are properly passed as required.\n",
    "8. If you used regularization in a correct way\n",
    "9. Run the network using the same or similar code given in the notebook.\n",
    "\n",
    "b) 5 points\n",
    "1. If you densely generated points for the whole plane in a proper way.\n",
    "2. If you colored the points in a correct way\n",
    "\n",
    "c) 15 points\n",
    "If you tried all required parameters and plotted the decision region for each.\n",
    "\n",
    "d) 20 points\n",
    "1. If you separated your data\n",
    "2. If you implemented early stopping correctly\n",
    "3. If you computed accuracy\n",
    "It could be changed a bit during grading, but not much. There will be deduction in points if the results are not as expected.\n",
    "In HW2, there were many students implemented models correct but not trained it enough.  Try to use matrices in minibatch calculations(not calculating individual samples using for loop). Then it will take not too long to train more epochs."
   ]
  },
  {
   "cell_type": "markdown",
   "metadata": {},
   "source": [
    "#### Problem"
   ]
  },
  {
   "cell_type": "markdown",
   "metadata": {},
   "source": [
    "a) You are given two dimensional input from three separate classes. Your task is to implement a multi-layer perceptron (MLP) 3-class classifier with multiple hidden layers and a regularization on the weights. For the activiation function of the hidden units use ReLU or leaky ReLU. For the predictions use softmax on a linear output layer as we did in class. Your loss layer should compute $-\\log P(y = i \\,|{\\bf x})$ where $i$ is the correct label according to the training data.\n",
    "\n",
    "Implement each layer type (hidden, output, and loss) as separate python classes, each with methods for initialization, forward propagation, and backpropagation.\n",
    "\n",
    "Implement a MLP as its own class, with separate methods for initialization, adding a layer, forward propagation, backpropagation, training and prediction. \n",
    "\n",
    "Let the layer dimensions be parameters passed when the network is created.\n",
    "\n",
    "Let the number of training epochs, the mini-batch size, and the regularization parameter be parameters that are passed when training the network.\n",
    "\n",
    "Build and run your network using your own constructs. The code for doing this might look like what is shown in the next box below.\n",
    "\n",
    "b) Show the decision regions of the trained classifier by densely generating points in the plane and color coding these points with the three different labels. \n",
    "\n",
    "c) Repeat varying the number of hidden units (3, 8, 16), the number of hidden layers (1 and 3), and the regularization value (0 and some other value of your choosing).\n",
    "\n",
    "d) Re-use this same network on any data of your own choosing. You can increase the dimensionality of the features space as you like. You can also change the number of classes to just two or more than three to align with your data. Separate your data into three piles: training, testing, and validation. Use your testing data to decide when to stop training if appropriate. Use your validation set to compute the accuracy of you classfier. "
   ]
  },
  {
   "cell_type": "code",
   "execution_count": 1,
   "metadata": {},
   "outputs": [],
   "source": [
    "# NN = MLP()\n",
    "# NN.add_layer('Hidden', dim_in=2, dim_out=16)\n",
    "# NN.add_layer('Hidden', dim_in=16, dim_out=16)\n",
    "# NN.add_layer('Hidden', dim_in=16, dim_out=16)\n",
    "# NN.add_layer('Output', dim_in=16, dim_out=3)\n",
    "# NN.add_layer('Loss', dim_in=3, dim_out=3)\n",
    "\n",
    "# loss = NN.train(X, y, epochs=100, bsize=8, alpha=0.0)\n",
    "# plot_loss(loss)\n",
    "# plot_decision_regions(NN)"
   ]
  },
  {
   "cell_type": "markdown",
   "metadata": {},
   "source": [
    " \n",
    "\n",
    "#### NOTE:  Do not to use keras, tensorflow, pytorch, sklearn, etc. to do this.  You must build the machine learning components from scratch.  \n",
    "\n",
    "#### YOUR CODE MUST BE YOUR OWN.\n",
    "_______________________________________________________________\n",
    "\n"
   ]
  },
  {
   "cell_type": "markdown",
   "metadata": {
    "collapsed": true
   },
   "source": [
    "Let's start by importing some libraries."
   ]
  },
  {
   "cell_type": "code",
   "execution_count": 2,
   "metadata": {},
   "outputs": [],
   "source": [
    "import numpy as np\n",
    "import random\n",
    "import pandas as pd\n",
    "import matplotlib.pyplot as plt\n",
    "%matplotlib inline"
   ]
  },
  {
   "cell_type": "markdown",
   "metadata": {},
   "source": [
    "Let's make up our 2D data for our three classes."
   ]
  },
  {
   "cell_type": "code",
   "execution_count": 3,
   "metadata": {},
   "outputs": [
    {
     "data": {
      "text/html": [
       "<div>\n",
       "<style scoped>\n",
       "    .dataframe tbody tr th:only-of-type {\n",
       "        vertical-align: middle;\n",
       "    }\n",
       "\n",
       "    .dataframe tbody tr th {\n",
       "        vertical-align: top;\n",
       "    }\n",
       "\n",
       "    .dataframe thead th {\n",
       "        text-align: right;\n",
       "    }\n",
       "</style>\n",
       "<table border=\"1\" class=\"dataframe\">\n",
       "  <thead>\n",
       "    <tr style=\"text-align: right;\">\n",
       "      <th></th>\n",
       "      <th>x1</th>\n",
       "      <th>x2</th>\n",
       "      <th>y</th>\n",
       "    </tr>\n",
       "  </thead>\n",
       "  <tbody>\n",
       "    <tr>\n",
       "      <th>0</th>\n",
       "      <td>-0.320908</td>\n",
       "      <td>-1.688271</td>\n",
       "      <td>2.0</td>\n",
       "    </tr>\n",
       "    <tr>\n",
       "      <th>1</th>\n",
       "      <td>-1.122446</td>\n",
       "      <td>0.606730</td>\n",
       "      <td>0.0</td>\n",
       "    </tr>\n",
       "    <tr>\n",
       "      <th>2</th>\n",
       "      <td>1.589115</td>\n",
       "      <td>1.269171</td>\n",
       "      <td>1.0</td>\n",
       "    </tr>\n",
       "    <tr>\n",
       "      <th>3</th>\n",
       "      <td>-0.558108</td>\n",
       "      <td>0.550174</td>\n",
       "      <td>0.0</td>\n",
       "    </tr>\n",
       "    <tr>\n",
       "      <th>4</th>\n",
       "      <td>0.768178</td>\n",
       "      <td>0.893335</td>\n",
       "      <td>2.0</td>\n",
       "    </tr>\n",
       "  </tbody>\n",
       "</table>\n",
       "</div>"
      ],
      "text/plain": [
       "         x1        x2    y\n",
       "0 -0.320908 -1.688271  2.0\n",
       "1 -1.122446  0.606730  0.0\n",
       "2  1.589115  1.269171  1.0\n",
       "3 -0.558108  0.550174  0.0\n",
       "4  0.768178  0.893335  2.0"
      ]
     },
     "execution_count": 3,
     "metadata": {},
     "output_type": "execute_result"
    }
   ],
   "source": [
    "data = pd.DataFrame(np.zeros((5000, 3)), columns=['x1', 'x2', 'y'])\n",
    "\n",
    "# Let's make up some noisy XOR data to use to build our binary classifier\n",
    "for i in range(len(data.index)):\n",
    "    x1 = random.randint(0,1)\n",
    "    x2 = random.randint(0,1)\n",
    "    if x1 == 1 and x2 == 0:\n",
    "        y = 0\n",
    "    elif x1 == 0 and x2 == 1:\n",
    "        y = 0\n",
    "    elif x1 == 0 and x2 == 0:\n",
    "        y = 1\n",
    "    else:\n",
    "        y = 2\n",
    "    x1 = 1.0 * x1 + 0.20 * np.random.normal()\n",
    "    x2 = 1.0 * x2 + 0.20 * np.random.normal()\n",
    "    data.iloc[i,0] = x1\n",
    "    data.iloc[i,1] = x2\n",
    "    data.iloc[i,2] = y\n",
    "    \n",
    "for i in range(int(0.25 *len(data.index))):\n",
    "    k = np.random.randint(len(data.index)-1)  \n",
    "    data.iloc[k,0] = 1.5 + 0.20 * np.random.normal()\n",
    "    data.iloc[k,1] = 1.5 + 0.20 * np.random.normal()\n",
    "    data.iloc[k,2] = 1\n",
    "\n",
    "for i in range(int(0.25 *len(data.index))):\n",
    "    k = np.random.randint(len(data.index)-1)  \n",
    "    data.iloc[k,0] = 0.5 + 0.20 * np.random.normal()\n",
    "    data.iloc[k,1] = -0.75 + 0.20 * np.random.normal()\n",
    "    data.iloc[k,2] = 2\n",
    "    \n",
    "# Now let's normalize this data.\n",
    "data.iloc[:,0] = (data.iloc[:,0] - data['x1'].mean()) / data['x1'].std()\n",
    "data.iloc[:,1] = (data.iloc[:,1] - data['x2'].mean()) / data['x2'].std()\n",
    "        \n",
    "data.head()"
   ]
  },
  {
   "cell_type": "markdown",
   "metadata": {},
   "source": [
    "Let's message this data into a numpy format."
   ]
  },
  {
   "cell_type": "code",
   "execution_count": 4,
   "metadata": {},
   "outputs": [],
   "source": [
    "# set X (training data) and y (target variable)\n",
    "cols = data.shape[1]\n",
    "X = data.iloc[:,0:cols-1]\n",
    "y = data.iloc[:,cols-1:cols]\n",
    "\n",
    "# The cost function is expecting numpy matrices so we need to convert X and y before we can use them.  \n",
    "X = np.matrix(X.values)\n",
    "y = np.matrix(y.values)"
   ]
  },
  {
   "cell_type": "markdown",
   "metadata": {},
   "source": [
    "Let's make a sloppy plotting function for our binary data."
   ]
  },
  {
   "cell_type": "code",
   "execution_count": 5,
   "metadata": {},
   "outputs": [],
   "source": [
    "# Sloppy function for plotting our data\n",
    "def plot_data(X, y_predict):\n",
    "    \n",
    "    fig, ax = plt.subplots(figsize=(12,8))\n",
    "    ax.margins(0.05) # Optional, just adds 5% padding to the autoscaling\n",
    "\n",
    "    indices_0 = [k for k in range(0, X.shape[0]) if y_predict[k] == 0]\n",
    "    indices_1 = [k for k in range(0, X.shape[0]) if y_predict[k] == 1]\n",
    "    indices_2 = [k for k in range(0, X.shape[0]) if y_predict[k] == 2]\n",
    "\n",
    "    ax.plot(X[indices_0, 0], X[indices_0,1], marker='o', linestyle='', ms=5, label='0')\n",
    "    ax.plot(X[indices_1, 0], X[indices_1,1], marker='o', linestyle='', ms=5, label='1')\n",
    "    ax.plot(X[indices_2, 0], X[indices_2,1], marker='o', linestyle='', ms=5, label='2')\n",
    "\n",
    "    ax.legend()\n",
    "    ax.legend(loc=2)\n",
    "    ax.set_xlabel('x1')\n",
    "    ax.set_ylabel('x2')\n",
    "    ax.set_title('Tricky 3 Class Classification')\n",
    "    plt.show()"
   ]
  },
  {
   "cell_type": "markdown",
   "metadata": {},
   "source": [
    "Now let's plot it."
   ]
  },
  {
   "cell_type": "code",
   "execution_count": 6,
   "metadata": {},
   "outputs": [
    {
     "data": {
      "image/png": "[encoded data removed]",
      "text/plain": [
       "<Figure size 864x576 with 1 Axes>"
      ]
     },
     "metadata": {
      "needs_background": "light"
     },
     "output_type": "display_data"
    }
   ],
   "source": [
    "plot_data(X, y)"
   ]
  },
  {
   "cell_type": "markdown",
   "metadata": {},
   "source": [
    "Now build your network. Good luck! 😉 "
   ]
  },
  {
   "cell_type": "markdown",
   "metadata": {},
   "source": [
    "Change `X` and `y` into `ndarray` and do sanity check"
   ]
  },
  {
   "cell_type": "code",
   "execution_count": 7,
   "metadata": {},
   "outputs": [
    {
     "name": "stdout",
     "output_type": "stream",
     "text": [
      "[[-0.32090804 -1.68827098]\n",
      " [-1.12244604  0.60672987]\n",
      " [ 1.58911505  1.2691708 ]]\n",
      "[[2.]\n",
      " [0.]\n",
      " [1.]]\n"
     ]
    }
   ],
   "source": [
    "X = np.array(X)\n",
    "y = np.array(y)\n",
    "\n",
    "assert X.shape == (5000, 2)\n",
    "print(X[0:3])\n",
    "\n",
    "assert y.shape == (5000, 1)\n",
    "print(y[0:3])"
   ]
  },
  {
   "cell_type": "markdown",
   "metadata": {},
   "source": [
    "Apply `one hot encoding` to `y`, check if the encoding is correct by comparing the `one-hot-encoded y`to the `y` printed above"
   ]
  },
  {
   "cell_type": "code",
   "execution_count": 8,
   "metadata": {},
   "outputs": [
    {
     "name": "stdout",
     "output_type": "stream",
     "text": [
      "[[0. 0. 1.]\n",
      " [1. 0. 0.]\n",
      " [0. 1. 0.]]\n"
     ]
    }
   ],
   "source": [
    "data = np.array(y.flatten(), dtype='int32')\n",
    "shape = (data.size, int(data.max() + 1))\n",
    "\n",
    "y = np.zeros(shape)\n",
    "rows = np.arange(data.size)\n",
    "\n",
    "y[rows, data] = 1.0\n",
    "print(y[0:3])"
   ]
  },
  {
   "cell_type": "markdown",
   "metadata": {},
   "source": [
    "### a) Implement MLP"
   ]
  },
  {
   "cell_type": "markdown",
   "metadata": {
    "collapsed": true
   },
   "source": [
    "#### a.1 Implement each layer type (hidden, output, and loss) as separate python classes, each with methods for initialization, forward propagation, and backpropagation."
   ]
  },
  {
   "cell_type": "markdown",
   "metadata": {},
   "source": [
    "First, create a base class `Layer`"
   ]
  },
  {
   "cell_type": "code",
   "execution_count": 9,
   "metadata": {},
   "outputs": [],
   "source": [
    "# Use Abstract Base Class from Python standard lib\n",
    "from abc import ABC, abstractmethod\n",
    " \n",
    "class Layer(ABC):\n",
    "    \n",
    "    # Some initializations for Layer:\n",
    "    # 1. Assign dimensions (dim_in, dim_out)\n",
    "    # 2. Assign weight_init strategy\n",
    "    def __init__(self, name, dim_in=None, dim_out=None, weight_init='standard', debug=False):\n",
    "        self.name = name\n",
    "        \n",
    "        self.dim_in = dim_in\n",
    "        self.dim_out = dim_out\n",
    "     \n",
    "        if isinstance(self, Input) or isinstance(self, Hidden) or isinstance(self, Output):\n",
    "            self.weight_init = weight_init\n",
    "            self.init_weights()\n",
    "            \n",
    "        self.debug = debug\n",
    "        \n",
    "    # Initialize weights using weight_init strategy\n",
    "    def init_weights(self):\n",
    "        init_method = self.weight_init.lower()\n",
    "        \n",
    "        # Here I only implement one strategy, using Standard Normal distribution\n",
    "        if init_method == 'standard':\n",
    "            self.W = np.random.normal(0, 1, self.dim_in*self.dim_out).reshape(self.dim_in, self.dim_out)\n",
    "            \n",
    "        else:\n",
    "            raise Exception('Non-supported initialization method')\n",
    "            \n",
    "        # For bias, simply set to zeros\n",
    "        self.b = np.zeros(self.dim_out, dtype='float32')\n",
    "    \n",
    "    # Abstract forward method for Layer, \n",
    "    # taking both inputs X and y to calculate activation/loss\n",
    "    @abstractmethod\n",
    "    def forward_propagate(self, X, y):\n",
    "        # To be implemented in the child class\n",
    "        pass\n",
    "    \n",
    "    # Abstract back propagate method for Layer, \n",
    "    # taking grads from previous layer\n",
    "    @abstractmethod\n",
    "    def back_propagate(self, grads):\n",
    "        # To be implemented in the child class\n",
    "        pass"
   ]
  },
  {
   "cell_type": "markdown",
   "metadata": {},
   "source": [
    "Second, create a `Linear` `Layer`, i.e. simply a feedforward `Layer`"
   ]
  },
  {
   "cell_type": "code",
   "execution_count": 10,
   "metadata": {},
   "outputs": [],
   "source": [
    "class Linear(Layer):\n",
    "    \n",
    "    # Parent initialization\n",
    "    def __init__(self, name, dim_in, dim_out, debug=False):\n",
    "        super().__init__(name, dim_in, dim_out, debug)\n",
    "    \n",
    "    # W is param weight and b is intercept/bias\n",
    "    def forward_propagate(self, X, y=None):\n",
    "        # Simply save the input \n",
    "        self.X = X\n",
    "        \n",
    "        # and return the WX + b value\n",
    "        return np.dot(X, self.W) + self.b\n",
    "    \n",
    "    # Compute grads for both W and b\n",
    "    def back_propagate(self, grads):\n",
    "        # For W, we do matrix multiplication between our input X\n",
    "        # and the gradients from previous layer and then take \n",
    "        # the average over the resulting columns, i.e. axis=0\n",
    "        # The tricky thing here is that we have to match the shape to be able\n",
    "        # to do the multiplication. For X, we add newaxis as the third dimension\n",
    "        # meanwhile for the grads, we add it as the second dimension\n",
    "        self.grad_W = (np.matmul(self.X[:, :, np.newaxis], grads[:, np.newaxis,:])).mean(axis=0)\n",
    "        \n",
    "        # For the intercept, we simply take the gradients average\n",
    "        # We can think of this as having input X equals to vector of 1s,\n",
    "        # or in numpy something like np.full(shape, 1.0),\n",
    "        # which if we multiply with our grads will result in the grads itself\n",
    "        self.grad_b = grads.mean(axis=0)\n",
    "        \n",
    "        # The gradients to be passed to the next (or prev I should say) layer\n",
    "        # is computed by taking dot product of the current gradients \n",
    "        # and this layer weights\n",
    "        return np.dot(grads, self.W.transpose())"
   ]
  },
  {
   "cell_type": "markdown",
   "metadata": {},
   "source": [
    "Third, create class for `Input`, `Hidden` layer and `Output` `Layer`\n",
    "\n",
    "All the three classes are basically the same since I already create a `Linear` `Layer` as their parent. But, for the sake of the assignment requirement, which is to have separate classes for each `Layer`, then I implement them as below"
   ]
  },
  {
   "cell_type": "code",
   "execution_count": 11,
   "metadata": {},
   "outputs": [],
   "source": [
    "class Input(Linear):\n",
    "    \n",
    "    def __init__(self, name, dim_in, dim_out, debug=False):\n",
    "        super().__init__(name, dim_in, dim_out, debug)\n",
    "        \n",
    "class Hidden(Linear):\n",
    "\n",
    "    def __init__(self, name, dim_in, dim_out, debug=False):\n",
    "        super().__init__(name, dim_in, dim_out, debug)\n",
    "\n",
    "class Output(Linear):\n",
    "    \n",
    "    def __init__(self, name, dim_in, dim_out, debug=False):\n",
    "        super().__init__(name, dim_in, dim_out, debug)"
   ]
  },
  {
   "cell_type": "markdown",
   "metadata": {},
   "source": [
    "Now, we're done with all the feedforward `Layer`\n",
    "\n",
    "Next, let's implement the `Activation` and `Loss` class, which are also the child of the base class `Layer`."
   ]
  },
  {
   "cell_type": "code",
   "execution_count": 12,
   "metadata": {},
   "outputs": [],
   "source": [
    "# For Activation, I cover two types: ReLU and Softmax\n",
    "class Activation(Layer):\n",
    "    \n",
    "    def __init__(self, name, debug=False):\n",
    "        super().__init__(name, debug)\n",
    "        \n",
    "    def apply_relu(self): \n",
    "        # For ReLU, need to keep X original values\n",
    "        # for backpropagation later\n",
    "        self.X_linear = np.copy(self.X)\n",
    "        \n",
    "        # Clip all negative values to zero\n",
    "        return np.clip(self.X, 0, None)\n",
    "    \n",
    "    def apply_softmax(self):\n",
    "        # Simply use the formula (e^x / sum(e^x))\n",
    "        # Take the average over the row, i.e. axis=1\n",
    "        # The tricky thing here is we need to expand the dimension\n",
    "        # so it's easier later to backpropagate\n",
    "        # Save these values as well for later backpropagation\n",
    "        self.y_probs = np.exp(self.X) / np.exp(self.X).sum(axis=1)[:, np.newaxis]\n",
    "    \n",
    "        return self.y_probs\n",
    "    \n",
    "    def compute_relu_derivative(self, grads):\n",
    "        # Simply replace all positive values to the received grads\n",
    "        return np.where(self.X_linear > 0, grads, 0)\n",
    "    \n",
    "    def compute_softmax_derivative(self, grads):\n",
    "        # Again, expand the dimension for the sake of the backpropagation\n",
    "        return self.y_probs * (grads - (grads * self.y_probs).sum(axis=1)[:, np.newaxis])\n",
    "\n",
    "    # Wrapper for activations, i.e. choosing actions based on param\n",
    "    def activate(self):\n",
    "        if 'relu' in self.name: \n",
    "            activation_func = self.apply_relu\n",
    "            \n",
    "        elif 'softmax' in self.name:\n",
    "            activation_func = self.apply_softmax\n",
    "        \n",
    "        else:\n",
    "            raise Exception('Non-supported activation function')\n",
    "            \n",
    "        return activation_func()\n",
    "    \n",
    "    # Forward action for Activation layer is simply\n",
    "    # calling the activation function, thus y is unneeded\n",
    "    def forward_propagate(self, X, y=None):\n",
    "        self.X = X\n",
    "        \n",
    "        return self.activate()\n",
    "    \n",
    "    # Backproagation action for Activation layer\n",
    "    # is computing the derivative/gradients\n",
    "    def back_propagate(self, grads):\n",
    "        if 'relu' in self.name:\n",
    "            derivative_func = self.compute_relu_derivative\n",
    "            \n",
    "        elif 'softmax' in self.name:\n",
    "            derivative_func = self.compute_softmax_derivative\n",
    "        \n",
    "        else:\n",
    "            raise Exception('Non-supported activation function')\n",
    "            \n",
    "        return derivative_func(grads)\n",
    "\n",
    "# For Loss, I cover only Cross Entropy loss\n",
    "class Loss(Layer):\n",
    "    \n",
    "    def __init__(self, name, debug=False):\n",
    "        super().__init__(name, debug)\n",
    "        \n",
    "    # X has shape of (num_examples, num_classes)\n",
    "    # y has shape of (num_examples,)\n",
    "    # IMPORTANT: y needs to be ONE-HOT ENCODED \n",
    "    # IMPORTANT: APPLY SOFTMAX to X beforehand\n",
    "    def apply_cross_entropy(self):\n",
    "        return (np.where(self.y==1.0, -np.log(self.X), 0.0)).sum(axis=1)\n",
    "    \n",
    "    # Wrapper for losses, i.e. choosing actions based on param\n",
    "    def compute_loss(self):\n",
    "        if self.debug:\n",
    "            print('y_out shape: {}'.format(y_out.shape))\n",
    "            print('y shape: {}'.format(y.shape))\n",
    "            \n",
    "        if 'cross_entropy' in self.name:\n",
    "            loss_func = self.apply_cross_entropy\n",
    "            \n",
    "        else:\n",
    "            raise Exception('Non-supported loss function')\n",
    "            \n",
    "        return loss_func()\n",
    "    \n",
    "    # Forward action for Loss layer is computing the loss,\n",
    "    # thus the true label y is needed\n",
    "    def forward_propagate(self, X, y):\n",
    "        self.X = X\n",
    "        self.y = y\n",
    "        \n",
    "        return self.compute_loss()\n",
    "    \n",
    "    # Backpropagation action for Loss layer is computing the \n",
    "    # derivative/gradients given the classification mismatch\n",
    "    # In this case, for Cross Entropy, we set the derivation\n",
    "    # value to (-1/X), which is the derivative of natural log\n",
    "    # We do that for all the indexes where the true label lies\n",
    "    # Remember we do one hot encoding, so there are only 0s and 1\n",
    "    def back_propagate(self, grads=None):    \n",
    "        return np.where(self.y==1.0, -1/self.X, 0.0)\n",
    "\n",
    "# A function to check if the above implementation is correct\n",
    "def check_activation_and_loss_imp():\n",
    "    y_out = np.array([1.0, -2.0, 3.0, -5.0])\n",
    "    \n",
    "    reluAct = Activation('relu_0')\n",
    "    assert (reluAct.forward_propagate(y_out) == np.array([1., 0., 3., 0])).all()\n",
    "    \n",
    "    y_out = np.array([[1.0, 2.0, 3.0], [2.0, 2.0, 2.0]])\n",
    "    \n",
    "    softmaxAct = Activation('softmax_0', False)\n",
    "    y_out_softmax = softmaxAct.forward_propagate(y_out)\n",
    "    \n",
    "    print(np.sum(y_out_softmax, axis=1))\n",
    "    \n",
    "    crossEntropyLoss = Loss('cross_entropy_0')\n",
    "    print(crossEntropyLoss.forward_propagate(y_out_softmax, np.array([[1.0, 0.0, 0.0], [0.0, 0.0, 1.0]])))"
   ]
  },
  {
   "cell_type": "markdown",
   "metadata": {},
   "source": [
    "Sanity checks to see if `Activation` and `Loss` implementation is correct:"
   ]
  },
  {
   "cell_type": "code",
   "execution_count": 13,
   "metadata": {},
   "outputs": [
    {
     "name": "stdout",
     "output_type": "stream",
     "text": [
      "[1. 1.]\n",
      "[2.40760596 1.09861229]\n"
     ]
    }
   ],
   "source": [
    "check_activation_and_loss_imp()"
   ]
  },
  {
   "cell_type": "markdown",
   "metadata": {},
   "source": [
    "Finally, an `MLP` class"
   ]
  },
  {
   "cell_type": "code",
   "execution_count": 14,
   "metadata": {},
   "outputs": [],
   "source": [
    "class MLP():\n",
    "    \n",
    "    # Initialize Layers placeholder\n",
    "    def __init__(self, debug=True):\n",
    "        self.layers = []\n",
    "        \n",
    "        self.debug = debug\n",
    "        \n",
    "    # Let the layer type (there is 5), dimensions (in and out) and \n",
    "    # weight initialization strategy be parameters passed when adding a layer\n",
    "    def add_layer(self, layer_type, dim_in=None, dim_out=None, weight_init='standard'):\n",
    "        layer_type = layer_type.lower()\n",
    "        \n",
    "        num_of_layers = sum(layer_type in layer.name for layer in self.layers)\n",
    "        \n",
    "        # The layer names would be something like: input_0, relu_0, \n",
    "        # hidden_0, relu_1, output_0, softmax_0, loss_0\n",
    "        name = layer_type + '_' + str(num_of_layers)\n",
    "        \n",
    "        if layer_type == 'input':\n",
    "            self.layers.append(Input(name, dim_in, dim_out, weight_init))\n",
    "            \n",
    "        elif layer_type == 'hidden':\n",
    "            self.layers.append(Hidden(name, dim_in, dim_out, weight_init))\n",
    "        \n",
    "        elif layer_type == 'output':\n",
    "            self.layers.append(Output(name, dim_in, dim_out, weight_init))\n",
    "            \n",
    "        elif 'activation' in layer_type:\n",
    "            self.layers.append(Activation(name))\n",
    "            \n",
    "        elif 'loss' in layer_type:\n",
    "            self.layers.append(Loss(name))\n",
    "        \n",
    "        else:\n",
    "            raise Exception('Non-supported layer type')\n",
    "    \n",
    "    # Basically calling forward_propagate from all layers\n",
    "    # Set include_loss to True for training because \n",
    "    # we need it to compute the gradients\n",
    "    # Set include_loss to False for prediction because\n",
    "    # we only need the Softmax probabilities output\n",
    "    def forward_propagate(self, X, y, include_loss=True):\n",
    "        if self.debug:\n",
    "            print('Forward propagating...')\n",
    "            print('Input shape: {}'.format(X.shape))\n",
    "        \n",
    "        for layer in self.layers:\n",
    "            if self.debug:\n",
    "                print('Layer name: {}'.format(layer.name))\n",
    "                    \n",
    "            if not isinstance(layer, Loss):\n",
    "\n",
    "                X = layer.forward_propagate(X)\n",
    "\n",
    "                if self.debug:\n",
    "                    print('Output shape: {}'.format(X.shape))\n",
    "                    \n",
    "            else:\n",
    "                if include_loss:\n",
    "                    loss = layer.forward_propagate(X, y)\n",
    "\n",
    "                    if self.debug:\n",
    "                        print('Loss shape: {}'.format(loss.shape))\n",
    "                        \n",
    "        if include_loss:\n",
    "            return loss \n",
    "        else:\n",
    "            return X\n",
    "    \n",
    "    # Basically calling back_propagate from all layers\n",
    "    # See that we chain the grads here by passing computed grads from\n",
    "    # the current layer to the next (or should I say previous) layer\n",
    "    def back_propagate(self):\n",
    "        if self.debug:\n",
    "            print('Back propagating...')\n",
    "            \n",
    "        grads = None\n",
    "        \n",
    "        for layer in reversed(self.layers):\n",
    "            if self.debug:\n",
    "                print('Layer name: {}'.format(layer.name))\n",
    "\n",
    "            grads = layer.back_propagate(grads)\n",
    "\n",
    "            if self.debug:\n",
    "                print('Losses shape: {}'.format(losses.shape))\n",
    "    \n",
    "    # Update the weights using the computed grads/derivaties \n",
    "    # and the input learning_rate\n",
    "    # Note that we only update for Linear layers here\n",
    "    def update_weights(self, learning_rate):\n",
    "        for layer in self.layers:\n",
    "            if isinstance(layer, Linear):\n",
    "                layer.W = layer.W - learning_rate * layer.grad_W\n",
    "                layer.b = layer.b - learning_rate * layer.grad_b\n",
    "    \n",
    "    # Main training routine\n",
    "    # Let the number of training epochs, the mini-batch size, and the \n",
    "    # regularization parameter be parameters that are passed when \n",
    "    # training the network.\n",
    "    def train(self, X, y, learning_rate, epochs, bsize, alpha):\n",
    "        # IMPORTANT: I enforce that the last layer should be a Loss layer\n",
    "        if not isinstance(self.layers[len(self.layers) - 1], Loss):\n",
    "            raise Exception('Last layer is not a Loss layer')\n",
    "        \n",
    "        # Loss placeholder with size equals to epochs\n",
    "        losses = []\n",
    "        \n",
    "        # Loop over epochs\n",
    "        for i in range(0, epochs):\n",
    "            # Reset loss and start index for every epoch\n",
    "            # idx_start is used to implement mini batch scenario\n",
    "            loss = 0.0\n",
    "            idx_start = 0\n",
    "            \n",
    "            # Iterate for all minibatches\n",
    "            while idx_start < X.shape[0]:\n",
    "                # A minibatch is defined by [idx_start:idx_end]\n",
    "                idx_end = idx_start + bsize\n",
    "                \n",
    "                # For the last batch, if idx_end is greater\n",
    "                # than the number of samples, then clip it\n",
    "                if idx_end > X.shape[0]:\n",
    "                    idx_end = X.shape[0]\n",
    "                \n",
    "                # Get minibatch\n",
    "                X_minbatch, y_minbatch = X[idx_start:idx_end], y[idx_start:idx_end]\n",
    "                \n",
    "                # Sum the loss cumulatively for every batch\n",
    "                # Here, we call forward_propagate to do that\n",
    "                loss = loss + self.forward_propagate(X_minbatch, y_minbatch).sum()\n",
    "            \n",
    "                # Call back_propagate to compute and set the gradients,\n",
    "                # both for W and b for each layer\n",
    "                self.back_propagate()\n",
    "                \n",
    "                # Update weights, only for Linear layer\n",
    "                self.update_weights(learning_rate)\n",
    "                        \n",
    "                # Adjust idx_start for next minibacth\n",
    "                idx_start = idx_start + bsize\n",
    "            \n",
    "            # Save average loss for current epoch\n",
    "            avg_loss = loss / X.shape[0]\n",
    "            losses.append(avg_loss)\n",
    "            \n",
    "            # Compute training accuracy\n",
    "            train_acc = self.compute_accuracy(X, y)\n",
    "            \n",
    "            # Print info every 10 iterations\n",
    "            if (i+1) % 10 == 0:\n",
    "                print('Epoch: {}, Average Training Loss: {}, Train Accuracy: {}'.format(i+1, avg_loss, train_acc))\n",
    "        \n",
    "        return np.array(losses)\n",
    "    \n",
    "    # Predict return arrays of label, i.e. [0, 2, 1, 0, 2]\n",
    "    # given input X (2D)\n",
    "    def predict(self, X, y):\n",
    "        # Get Softmax probabilities through forward propagation\n",
    "        y_out_probs = self.forward_propagate(X, y, include_loss=False)\n",
    "        \n",
    "        # For each sample, i.e. each row, take the index\n",
    "        # which has maximum probability, denoting the label\n",
    "        return np.argmax(y_out_probs, axis=1)\n",
    "    \n",
    "    # Additional function to compute accuracy\n",
    "    def compute_accuracy(self, X, y):\n",
    "        y_true_labels = np.argmax(y, axis=1)\n",
    "        y_preds = self.predict(X, y)\n",
    "        \n",
    "        verdict = [1 if y1 == y2 else 0 for y1, y2 in zip(y_true_labels, y_preds)]\n",
    "\n",
    "        return np.sum(verdict) / len(verdict)"
   ]
  },
  {
   "cell_type": "markdown",
   "metadata": {},
   "source": [
    "Build our `MLP`, train it and get the losses"
   ]
  },
  {
   "cell_type": "code",
   "execution_count": 16,
   "metadata": {},
   "outputs": [
    {
     "name": "stdout",
     "output_type": "stream",
     "text": [
      "Epoch: 10, Average Training Loss: 0.08898420876701478, Train Accuracy: 0.9694\n",
      "Epoch: 20, Average Training Loss: 0.08182252619486818, Train Accuracy: 0.9718\n",
      "Epoch: 30, Average Training Loss: 0.07982817209994683, Train Accuracy: 0.971\n",
      "Epoch: 40, Average Training Loss: 0.07850153360468395, Train Accuracy: 0.9712\n",
      "Epoch: 50, Average Training Loss: 0.07674283967309252, Train Accuracy: 0.9718\n",
      "Epoch: 60, Average Training Loss: 0.07635173368096386, Train Accuracy: 0.9722\n",
      "Epoch: 70, Average Training Loss: 0.07590379384581844, Train Accuracy: 0.9718\n",
      "Epoch: 80, Average Training Loss: 0.0756349063118411, Train Accuracy: 0.9716\n",
      "Epoch: 90, Average Training Loss: 0.07531503681527153, Train Accuracy: 0.972\n",
      "Epoch: 100, Average Training Loss: 0.07506652592570175, Train Accuracy: 0.9712\n"
     ]
    }
   ],
   "source": [
    "NN = MLP(debug=False)\n",
    "\n",
    "# Input Layer of shape (2, 16) with 2 being the size of feature\n",
    "NN.add_layer('Input', dim_in=2, dim_out=16)\n",
    "# Use ReLU activation for Input Layer\n",
    "NN.add_layer('Activation_Relu')\n",
    "\n",
    "# Input Layer of shape (16, 16) with 2 being the size of feature\n",
    "NN.add_layer('Hidden', dim_in=16, dim_out=16)\n",
    "# Also use ReLU activation for Hidden Layer\n",
    "NN.add_layer('Activation_Relu')\n",
    "\n",
    "# Output Layer of shape (16, 3) with 3 being the number of classes\n",
    "NN.add_layer('Output', dim_in=16, dim_out=3)\n",
    "# Use Softmax activation to get smooth class probabilities\n",
    "NN.add_layer('Activation_Softmax')\n",
    "\n",
    "# Cross Entropy Loss Layer to compute the loss based on Softmax activations\n",
    "NN.add_layer('Loss_Cross_Entropy')\n",
    "\n",
    "# Finally, train the NN and fetch the losses\n",
    "# Use the same parameter as \n",
    "losses = NN.train(X, y, learning_rate=0.01, epochs=100, bsize=8, alpha=0.0)"
   ]
  },
  {
   "cell_type": "code",
   "execution_count": null,
   "metadata": {},
   "outputs": [],
   "source": []
  },
  {
   "cell_type": "code",
   "execution_count": null,
   "metadata": {},
   "outputs": [],
   "source": []
  },
  {
   "cell_type": "code",
   "execution_count": null,
   "metadata": {},
   "outputs": [],
   "source": []
  },
  {
   "cell_type": "code",
   "execution_count": null,
   "metadata": {},
   "outputs": [],
   "source": []
  },
  {
   "cell_type": "code",
   "execution_count": null,
   "metadata": {},
   "outputs": [],
   "source": []
  },
  {
   "cell_type": "code",
   "execution_count": null,
   "metadata": {},
   "outputs": [],
   "source": []
  }
 ],
 "metadata": {
  "kernelspec": {
   "display_name": "Python 3",
   "language": "python",
   "name": "python3"
  },
  "language_info": {
   "codemirror_mode": {
    "name": "ipython",
    "version": 3
   },
   "file_extension": ".py",
   "mimetype": "text/x-python",
   "name": "python",
   "nbconvert_exporter": "python",
   "pygments_lexer": "ipython3",
   "version": "3.6.5"
  }
 },
 "nbformat": 4,
 "nbformat_minor": 2
}
