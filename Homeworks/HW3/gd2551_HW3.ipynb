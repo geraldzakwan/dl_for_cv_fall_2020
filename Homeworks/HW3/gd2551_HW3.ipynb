{
 "cells": [
  {
   "cell_type": "markdown",
   "metadata": {},
   "source": [
    "# Deep Learning for Computer Vision:  HW 3\n"
   ]
  },
  {
   "cell_type": "markdown",
   "metadata": {},
   "source": [
    "## Computer Science: COMS W 4995 004\n"
   ]
  },
  {
   "cell_type": "markdown",
   "metadata": {},
   "source": [
    "### Due: October 20, 2020"
   ]
  },
  {
   "cell_type": "markdown",
   "metadata": {},
   "source": [
    "Hi all, here is a check list(rough rubric) for HW3.\n",
    "This is pretty much the same as what questions asked. You might want to check all those below\n",
    "before submit your HW.\n",
    "\n",
    "a)  60 points\n",
    "Will be focusing on whether you satisfied all required conditions when building and training your network. Points will be (roughly) evenly allocated to the following conditions.\n",
    "1. If you implemented each (hidden, output, loss) layer type as separate classes and had all mentioned functions for each class.\n",
    "2. If you Implement a MLP class with all mentioned functions.\n",
    "3. If you used the required activation function.\n",
    "4. If you used softmax.\n",
    "5. If loss is correctly computed.\n",
    "6. Layers’ dimensions are properly passed as required.\n",
    "7. Training parameters are properly passed as required.\n",
    "8. If you used regularization in a correct way\n",
    "9. Run the network using the same or similar code given in the notebook.\n",
    "\n",
    "b) 5 points\n",
    "1. If you densely generated points for the whole plane in a proper way.\n",
    "2. If you colored the points in a correct way\n",
    "\n",
    "c) 15 points\n",
    "If you tried all required parameters and plotted the decision region for each.\n",
    "\n",
    "d) 20 points\n",
    "1. If you separated your data\n",
    "2. If you implemented early stopping correctly\n",
    "3. If you computed accuracy\n",
    "It could be changed a bit during grading, but not much. There will be deduction in points if the results are not as expected.\n",
    "In HW2, there were many students implemented models correct but not trained it enough.  Try to use matrices in minibatch calculations(not calculating individual samples using for loop). Then it will take not too long to train more epochs."
   ]
  },
  {
   "cell_type": "markdown",
   "metadata": {},
   "source": [
    "#### Problem"
   ]
  },
  {
   "cell_type": "markdown",
   "metadata": {},
   "source": [
    "a) You are given two dimensional input from three separate classes. Your task is to implement a multi-layer perceptron (MLP) 3-class classifier with multiple hidden layers and a regularization on the weights. For the activiation function of the hidden units use ReLU or leaky ReLU. For the predictions use softmax on a linear output layer as we did in class. Your loss layer should compute $-\\log P(y = i \\,|{\\bf x})$ where $i$ is the correct label according to the training data.\n",
    "\n",
    "Implement each layer type (hidden, output, and loss) as separate python classes, each with methods for initialization, forward propagation, and backpropagation.\n",
    "\n",
    "Implement a MLP as its own class, with separate methods for initialization, adding a layer, forward propagation, backpropagation, training and prediction. \n",
    "\n",
    "Let the layer dimensions be parameters passed when the network is created.\n",
    "\n",
    "Let the number of training epochs, the mini-batch size, and the regularization parameter be parameters that are passed when training the network.\n",
    "\n",
    "Build and run your network using your own constructs. The code for doing this might look like what is shown in the next box below.\n",
    "\n",
    "b) Show the decision regions of the trained classifier by densely generating points in the plane and color coding these points with the three different labels. \n",
    "\n",
    "c) Repeat varying the number of hidden units (3, 8, 16), the number of hidden layers (1 and 3), and the regularization value (0 and some other value of your choosing).\n",
    "\n",
    "d) Re-use this same network on any data of your own choosing. You can increase the dimensionality of the features space as you like. You can also change the number of classes to just two or more than three to align with your data. Separate your data into three piles: training, testing, and validation. Use your testing data to decide when to stop training if appropriate. Use your validation set to compute the accuracy of you classfier. "
   ]
  },
  {
   "cell_type": "code",
   "execution_count": 1,
   "metadata": {},
   "outputs": [],
   "source": [
    "# NN = MLP()\n",
    "# NN.add_layer('Hidden', dim_in=2, dim_out=16)\n",
    "# NN.add_layer('Hidden', dim_in=16, dim_out=16)\n",
    "# NN.add_layer('Hidden', dim_in=16, dim_out=16)\n",
    "# NN.add_layer('Output', dim_in=16, dim_out=3)\n",
    "# NN.add_layer('Loss', dim_in=3, dim_out=3)\n",
    "\n",
    "# loss = NN.train(X, y, epochs=100, bsize=8, alpha=0.0)\n",
    "# plot_loss(loss)\n",
    "# plot_decision_regions(NN)"
   ]
  },
  {
   "cell_type": "markdown",
   "metadata": {},
   "source": [
    " \n",
    "\n",
    "#### NOTE:  Do not to use keras, tensorflow, pytorch, sklearn, etc. to do this.  You must build the machine learning components from scratch.  \n",
    "\n",
    "#### YOUR CODE MUST BE YOUR OWN.\n",
    "_______________________________________________________________\n",
    "\n"
   ]
  },
  {
   "cell_type": "markdown",
   "metadata": {
    "collapsed": true
   },
   "source": [
    "Let's start by importing some libraries."
   ]
  },
  {
   "cell_type": "code",
   "execution_count": 2,
   "metadata": {},
   "outputs": [],
   "source": [
    "import numpy as np\n",
    "import random\n",
    "import pandas as pd\n",
    "import matplotlib.pyplot as plt\n",
    "%matplotlib inline"
   ]
  },
  {
   "cell_type": "markdown",
   "metadata": {},
   "source": [
    "Let's make up our 2D data for our three classes."
   ]
  },
  {
   "cell_type": "code",
   "execution_count": 3,
   "metadata": {},
   "outputs": [
    {
     "data": {
      "text/html": [
       "<div>\n",
       "<style scoped>\n",
       "    .dataframe tbody tr th:only-of-type {\n",
       "        vertical-align: middle;\n",
       "    }\n",
       "\n",
       "    .dataframe tbody tr th {\n",
       "        vertical-align: top;\n",
       "    }\n",
       "\n",
       "    .dataframe thead th {\n",
       "        text-align: right;\n",
       "    }\n",
       "</style>\n",
       "<table border=\"1\" class=\"dataframe\">\n",
       "  <thead>\n",
       "    <tr style=\"text-align: right;\">\n",
       "      <th></th>\n",
       "      <th>x1</th>\n",
       "      <th>x2</th>\n",
       "      <th>y</th>\n",
       "    </tr>\n",
       "  </thead>\n",
       "  <tbody>\n",
       "    <tr>\n",
       "      <th>0</th>\n",
       "      <td>2.050868</td>\n",
       "      <td>1.146828</td>\n",
       "      <td>1.0</td>\n",
       "    </tr>\n",
       "    <tr>\n",
       "      <th>1</th>\n",
       "      <td>-0.134454</td>\n",
       "      <td>-0.874166</td>\n",
       "      <td>2.0</td>\n",
       "    </tr>\n",
       "    <tr>\n",
       "      <th>2</th>\n",
       "      <td>-0.773523</td>\n",
       "      <td>-0.964771</td>\n",
       "      <td>1.0</td>\n",
       "    </tr>\n",
       "    <tr>\n",
       "      <th>3</th>\n",
       "      <td>-1.705236</td>\n",
       "      <td>0.797300</td>\n",
       "      <td>0.0</td>\n",
       "    </tr>\n",
       "    <tr>\n",
       "      <th>4</th>\n",
       "      <td>1.224386</td>\n",
       "      <td>1.382916</td>\n",
       "      <td>1.0</td>\n",
       "    </tr>\n",
       "  </tbody>\n",
       "</table>\n",
       "</div>"
      ],
      "text/plain": [
       "         x1        x2    y\n",
       "0  2.050868  1.146828  1.0\n",
       "1 -0.134454 -0.874166  2.0\n",
       "2 -0.773523 -0.964771  1.0\n",
       "3 -1.705236  0.797300  0.0\n",
       "4  1.224386  1.382916  1.0"
      ]
     },
     "execution_count": 3,
     "metadata": {},
     "output_type": "execute_result"
    }
   ],
   "source": [
    "data = pd.DataFrame(np.zeros((5000, 3)), columns=['x1', 'x2', 'y'])\n",
    "\n",
    "# Let's make up some noisy XOR data to use to build our binary classifier\n",
    "for i in range(len(data.index)):\n",
    "    x1 = random.randint(0,1)\n",
    "    x2 = random.randint(0,1)\n",
    "    if x1 == 1 and x2 == 0:\n",
    "        y = 0\n",
    "    elif x1 == 0 and x2 == 1:\n",
    "        y = 0\n",
    "    elif x1 == 0 and x2 == 0:\n",
    "        y = 1\n",
    "    else:\n",
    "        y = 2\n",
    "    x1 = 1.0 * x1 + 0.20 * np.random.normal()\n",
    "    x2 = 1.0 * x2 + 0.20 * np.random.normal()\n",
    "    data.iloc[i,0] = x1\n",
    "    data.iloc[i,1] = x2\n",
    "    data.iloc[i,2] = y\n",
    "    \n",
    "for i in range(int(0.25 *len(data.index))):\n",
    "    k = np.random.randint(len(data.index)-1)  \n",
    "    data.iloc[k,0] = 1.5 + 0.20 * np.random.normal()\n",
    "    data.iloc[k,1] = 1.5 + 0.20 * np.random.normal()\n",
    "    data.iloc[k,2] = 1\n",
    "\n",
    "for i in range(int(0.25 *len(data.index))):\n",
    "    k = np.random.randint(len(data.index)-1)  \n",
    "    data.iloc[k,0] = 0.5 + 0.20 * np.random.normal()\n",
    "    data.iloc[k,1] = -0.75 + 0.20 * np.random.normal()\n",
    "    data.iloc[k,2] = 2\n",
    "    \n",
    "# Now let's normalize this data.\n",
    "data.iloc[:,0] = (data.iloc[:,0] - data['x1'].mean()) / data['x1'].std()\n",
    "data.iloc[:,1] = (data.iloc[:,1] - data['x2'].mean()) / data['x2'].std()\n",
    "        \n",
    "data.head()"
   ]
  },
  {
   "cell_type": "markdown",
   "metadata": {},
   "source": [
    "Let's message this data into a numpy format."
   ]
  },
  {
   "cell_type": "code",
   "execution_count": 4,
   "metadata": {},
   "outputs": [],
   "source": [
    "# set X (training data) and y (target variable)\n",
    "cols = data.shape[1]\n",
    "X = data.iloc[:,0:cols-1]\n",
    "y = data.iloc[:,cols-1:cols]\n",
    "\n",
    "# The cost function is expecting numpy matrices so we need to convert X and y before we can use them.  \n",
    "X = np.matrix(X.values)\n",
    "y = np.matrix(y.values)"
   ]
  },
  {
   "cell_type": "markdown",
   "metadata": {},
   "source": [
    "Let's make a sloppy plotting function for our binary data."
   ]
  },
  {
   "cell_type": "code",
   "execution_count": 5,
   "metadata": {},
   "outputs": [],
   "source": [
    "# Sloppy function for plotting our data\n",
    "def plot_data(X, y_predict):\n",
    "    \n",
    "    fig, ax = plt.subplots(figsize=(12,8))\n",
    "    ax.margins(0.05) # Optional, just adds 5% padding to the autoscaling\n",
    "\n",
    "    indices_0 = [k for k in range(0, X.shape[0]) if y_predict[k] == 0]\n",
    "    indices_1 = [k for k in range(0, X.shape[0]) if y_predict[k] == 1]\n",
    "    indices_2 = [k for k in range(0, X.shape[0]) if y_predict[k] == 2]\n",
    "\n",
    "    ax.plot(X[indices_0, 0], X[indices_0,1], marker='o', linestyle='', ms=5, label='0')\n",
    "    ax.plot(X[indices_1, 0], X[indices_1,1], marker='o', linestyle='', ms=5, label='1')\n",
    "    ax.plot(X[indices_2, 0], X[indices_2,1], marker='o', linestyle='', ms=5, label='2')\n",
    "\n",
    "    ax.legend()\n",
    "    ax.legend(loc=2)\n",
    "    ax.set_xlabel('x1')\n",
    "    ax.set_ylabel('x2')\n",
    "    ax.set_title('Tricky 3 Class Classification')\n",
    "    plt.show()"
   ]
  },
  {
   "cell_type": "markdown",
   "metadata": {},
   "source": [
    "Now let's plot it."
   ]
  },
  {
   "cell_type": "code",
   "execution_count": 6,
   "metadata": {},
   "outputs": [
    {
     "data": {
      "image/png": "[encoded data removed]",
      "text/plain": [
       "<Figure size 864x576 with 1 Axes>"
      ]
     },
     "metadata": {
      "needs_background": "light"
     },
     "output_type": "display_data"
    }
   ],
   "source": [
    "plot_data(X, y)"
   ]
  },
  {
   "cell_type": "markdown",
   "metadata": {},
   "source": [
    "Now build your network. Good luck! 😉 "
   ]
  },
  {
   "cell_type": "markdown",
   "metadata": {},
   "source": [
    "Change `X` and `y` into `ndarray` and do sanity check"
   ]
  },
  {
   "cell_type": "code",
   "execution_count": 7,
   "metadata": {},
   "outputs": [
    {
     "name": "stdout",
     "output_type": "stream",
     "text": [
      "[[ 2.05086775  1.14682756]\n",
      " [-0.13445409 -0.87416557]\n",
      " [-0.77352293 -0.96477123]\n",
      " [-1.70523591  0.79730009]\n",
      " [ 1.22438627  1.38291582]\n",
      " [-0.43440366 -1.41492777]\n",
      " [-0.66397539 -1.45321637]\n",
      " [ 1.77086917  1.49300511]\n",
      " [-0.83481767 -0.67235378]\n",
      " [ 1.07676855  0.34233527]]\n",
      "[[1.]\n",
      " [2.]\n",
      " [1.]\n",
      " [0.]\n",
      " [1.]\n",
      " [2.]\n",
      " [2.]\n",
      " [1.]\n",
      " [1.]\n",
      " [2.]]\n"
     ]
    }
   ],
   "source": [
    "X = np.array(X)\n",
    "y = np.array(y)\n",
    "\n",
    "assert X.shape == (5000, 2)\n",
    "print(X[0:10])\n",
    "\n",
    "assert y.shape == (5000, 1)\n",
    "print(y[0:10])"
   ]
  },
  {
   "cell_type": "markdown",
   "metadata": {},
   "source": [
    "Apply `one hot encoding` to `y`, check if the encoding is correct by comparing to the `y` print above"
   ]
  },
  {
   "cell_type": "code",
   "execution_count": 8,
   "metadata": {},
   "outputs": [
    {
     "name": "stdout",
     "output_type": "stream",
     "text": [
      "[[0. 1. 0.]\n",
      " [0. 0. 1.]\n",
      " [0. 1. 0.]\n",
      " [1. 0. 0.]\n",
      " [0. 1. 0.]\n",
      " [0. 0. 1.]\n",
      " [0. 0. 1.]\n",
      " [0. 1. 0.]\n",
      " [0. 1. 0.]\n",
      " [0. 0. 1.]]\n"
     ]
    }
   ],
   "source": [
    "data = np.array(y.flatten(), dtype='int32')\n",
    "shape = (data.size, int(data.max() + 1))\n",
    "\n",
    "y = np.zeros(shape)\n",
    "rows = np.arange(data.size)\n",
    "\n",
    "y[rows, data] = 1\n",
    "print(y[0:10])"
   ]
  },
  {
   "cell_type": "markdown",
   "metadata": {},
   "source": [
    "### a) Implement MLP"
   ]
  },
  {
   "cell_type": "markdown",
   "metadata": {
    "collapsed": true
   },
   "source": [
    "#### a.1 Implement each layer type (hidden, output, and loss) as separate python classes, each with methods for initialization, forward propagation, and backpropagation."
   ]
  },
  {
   "cell_type": "markdown",
   "metadata": {},
   "source": [
    "Create a base class for `Layer`"
   ]
  },
  {
   "cell_type": "code",
   "execution_count": 9,
   "metadata": {},
   "outputs": [],
   "source": [
    "from abc import ABC, abstractmethod\n",
    " \n",
    "class Layer(ABC):\n",
    " \n",
    "    def __init__(self, name, dim_in=None, dim_out=None, weight_init='standard'):\n",
    "        self.name = name\n",
    "        \n",
    "        self.dim_in = dim_in\n",
    "        self.dim_out = dim_out\n",
    "     \n",
    "        if isinstance(self, Input) or isinstance(self, Hidden) or isinstance(self, Output):\n",
    "            self.weight_init = weight_init\n",
    "            self.init_weights()\n",
    "        \n",
    "    def init_weights(self):\n",
    "        init_method = self.weight_init.lower()\n",
    "        \n",
    "        if init_method == 'standard':\n",
    "            # Init weights using standard random distribution\n",
    "            self.W = np.random.normal(0, 1, self.dim_in*self.dim_out).reshape(self.dim_in, self.dim_out)\n",
    "            \n",
    "        else:\n",
    "            raise Exception('Non-supported initialization method')\n",
    "            \n",
    "        # Set all bias to zeros\n",
    "        self.b = np.zeros(self.dim_out, dtype='float32')\n",
    "    \n",
    "    @abstractmethod\n",
    "    def forward_propagate(self, X):\n",
    "        pass\n",
    "    \n",
    "    @abstractmethod\n",
    "    def back_propagate(self, X, y):\n",
    "        pass"
   ]
  },
  {
   "cell_type": "markdown",
   "metadata": {},
   "source": [
    "First, create class for `Input`, `Hidden` layer and `Output` layer"
   ]
  },
  {
   "cell_type": "code",
   "execution_count": 10,
   "metadata": {},
   "outputs": [],
   "source": [
    "class Input(Layer):\n",
    "\n",
    "    def __init__(self, name, dim_in, dim_out):\n",
    "        super().__init__(name, dim_in, dim_out)\n",
    "        \n",
    "    def forward_propagate(self, X):\n",
    "        return np.dot(X, self.W) + self.b\n",
    "        \n",
    "    def back_propagate(self, X, y):\n",
    "        pass\n",
    "\n",
    "    def single_layer_backward_propagation(dA_curr, W_curr, b_curr, Z_curr, A_prev, activation=\"relu\"):\n",
    "        m = A_prev.shape[1]\n",
    "\n",
    "        if activation is \"relu\":\n",
    "            backward_activation_func = relu_backward\n",
    "            \n",
    "        elif activation is \"sigmoid\":\n",
    "            backward_activation_func = sigmoid_backward\n",
    "            \n",
    "        else:\n",
    "            raise Exception('Non-supported activation function')\n",
    "\n",
    "        dZ_curr = backward_activation_func(dA_curr, Z_curr)\n",
    "        dW_curr = np.dot(dZ_curr, A_prev.T) / m\n",
    "        db_curr = np.sum(dZ_curr, axis=1, keepdims=True) / m\n",
    "        dA_prev = np.dot(W_curr.T, dZ_curr)\n",
    "\n",
    "        return dA_prev, dW_curr, db_curr\n",
    "        \n",
    "class Hidden(Layer):\n",
    "\n",
    "    def __init__(self, name, dim_in, dim_out):\n",
    "        super().__init__(name, dim_in, dim_out)\n",
    "        \n",
    "    def forward_propagate(self, X):\n",
    "        return np.dot(X, self.W) + self.b\n",
    "        \n",
    "    def back_propagate(self, X, y):\n",
    "        pass\n",
    "    \n",
    "    def single_layer_backward_propagation(dA_curr, W_curr, b_curr, Z_curr, A_prev, activation=\"relu\"):\n",
    "        m = A_prev.shape[1]\n",
    "\n",
    "        if activation is \"relu\":\n",
    "            backward_activation_func = relu_backward\n",
    "            \n",
    "        elif activation is \"sigmoid\":\n",
    "            backward_activation_func = sigmoid_backward\n",
    "            \n",
    "        else:\n",
    "            raise Exception('Non-supported activation function')\n",
    "\n",
    "        dZ_curr = backward_activation_func(dA_curr, Z_curr)\n",
    "        dW_curr = np.dot(dZ_curr, A_prev.T) / m\n",
    "        db_curr = np.sum(dZ_curr, axis=1, keepdims=True) / m\n",
    "        dA_prev = np.dot(W_curr.T, dZ_curr)\n",
    "\n",
    "        return dA_prev, dW_curr, db_curr\n",
    "        \n",
    "class Output(Layer):\n",
    "    \n",
    "    def __init__(self, name, dim_in, dim_out):\n",
    "        super().__init__(name, dim_in, dim_out)\n",
    "        \n",
    "    def forward_propagate(self, X):\n",
    "        return np.dot(X, self.W) + self.b\n",
    "        \n",
    "    def back_propagate(self, X, y):\n",
    "        pass\n",
    "    \n",
    "    def single_layer_backward_propagation(dA_curr, W_curr, b_curr, Z_curr, A_prev, activation=\"relu\"):\n",
    "        m = A_prev.shape[1]\n",
    "\n",
    "        if activation is \"relu\":\n",
    "            backward_activation_func = relu_backward\n",
    "            \n",
    "        elif activation is \"sigmoid\":\n",
    "            backward_activation_func = sigmoid_backward\n",
    "            \n",
    "        else:\n",
    "            raise Exception('Non-supported activation function')\n",
    "\n",
    "        dZ_curr = backward_activation_func(dA_curr, Z_curr)\n",
    "        dW_curr = np.dot(dZ_curr, A_prev.T) / m\n",
    "        db_curr = np.sum(dZ_curr, axis=1, keepdims=True) / m\n",
    "        dA_prev = np.dot(W_curr.T, dZ_curr)\n",
    "\n",
    "        return dA_prev, dW_curr, db_curr"
   ]
  },
  {
   "cell_type": "markdown",
   "metadata": {},
   "source": [
    "Then, let's implement the `Activation` and `Loss` classes"
   ]
  },
  {
   "cell_type": "code",
   "execution_count": 15,
   "metadata": {},
   "outputs": [],
   "source": [
    "class Activation(Layer):\n",
    "    \n",
    "    def __init__(self, name):\n",
    "        super().__init__(name)\n",
    "        \n",
    "    # ReLU for hidden layer\n",
    "    def apply_relu(self, X): \n",
    "        return np.maximum(X, np.zeros_like(X))\n",
    "\n",
    "    # Leaky ReLU for hidden layer\n",
    "    def apply_leaky_relu(self, X, alpha=0.3):\n",
    "        return np.where(X < 0, alpha * X, X)\n",
    "    \n",
    "    # Softmax for output layer\n",
    "    def apply_softmax(self, X):\n",
    "        exps = np.exp(X - np.max(X))\n",
    "\n",
    "        # Check again this line, might be wrong\n",
    "        sum_exps_1 = np.repeat(exps.sum(axis=1), exps.shape[1]).reshape(exps.shape[0], exps.shape[1])\n",
    "        \n",
    "        return exps / sum_exps_1\n",
    "\n",
    "    # Wrapper for activations\n",
    "    def activate(self, X):\n",
    "        # IMPORTANT: CHECK leaky_relu FIRST\n",
    "        if 'leaky_relu' in self.name:\n",
    "            activation_func = self.apply_leaky_relu\n",
    "        \n",
    "        elif 'relu' in self.name:\n",
    "            activation_func = self.apply_relu\n",
    "            \n",
    "        elif 'softmax' in self.name:\n",
    "            activation_func = self.apply_softmax\n",
    "        \n",
    "        else:\n",
    "            raise Exception('Non-supported activation function')\n",
    "            \n",
    "        return activation_func(X)\n",
    "            \n",
    "    def forward_propagate(self, X):\n",
    "        return self.activate(X)\n",
    "    \n",
    "    def back_propagate(self, X, y):\n",
    "        print('Invalid operation for Activation layer')\n",
    "\n",
    "class Loss(Layer):\n",
    "    \n",
    "    def __init__(self, name):\n",
    "        super().__init__(name)\n",
    "        \n",
    "    # Losses in the output layer\n",
    "    # X has shape of (num_examples, num_classes)\n",
    "    # y has shape of (num_examples,)\n",
    "    # Note that y is simply array of labels, e.g. for three classes: 0, 2, 1, 2, 2, 0],\n",
    "    # and not a one hot encoded vector\n",
    "    # IMPORTANT: Apply softmax to X beforehand\n",
    "    def apply_cross_entropy(self, X_softmax, y):\n",
    "        num_examples = y.shape[0]\n",
    "\n",
    "        log_likelihoods = - np.log(X_softmax[range(num_examples), y])\n",
    "\n",
    "        return np.sum(log_likelihoods) / num_examples\n",
    "    \n",
    "    # Wrapper for loss\n",
    "    def compute_loss(self, y_out, y):\n",
    "        \n",
    "        if 'cross_entropy' in self.name:\n",
    "            loss_func = self.apply_cross_entropy\n",
    "            \n",
    "        else:\n",
    "            raise Exception('Non-supported loss function')\n",
    "            \n",
    "        return loss_func(y_out, y)\n",
    "            \n",
    "    def forward_propagate(self, X):\n",
    "        print('Invalid operation for Loss layer')\n",
    "    \n",
    "    def back_propagate(self, X, y):\n",
    "        return self.compute_loss(X, y)\n",
    "\n",
    "def check_activation_and_loss_imp():\n",
    "    y_out = np.array([1.0, -2.0, 3.0, -5.0])\n",
    "    \n",
    "    reluAct = Activation('relu_0')\n",
    "    leakyReluAct = Activation('leaky_relu_0')\n",
    "    \n",
    "    assert (reluAct.activate(y_out) == np.array([1., 0., 3., 0])).all()\n",
    "    assert (leakyReluAct.activate(y_out) == np.array([ 1. , -0.6,  3. , -1.5])).all()\n",
    "    \n",
    "    y_out = np.array([[1.0, 2.0, 3.0], [2.0, 2.0, 2.0]])\n",
    "    \n",
    "    softmaxAct = Activation('softmax_0')\n",
    "    y_out_softmax = softmaxAct.activate(y_out)\n",
    "    \n",
    "    print(np.sum(y_out_softmax, axis=1))\n",
    "#     print(np.full(y_out.shape[0], 1.0, dtype='float32'))\n",
    "#     assert (np.sum(y_out_softmax, axis=1) == np.full(y_out.shape[0], 1.0, dtype='float32')).all()\n",
    "    \n",
    "    crossEntropyLoss = Loss('cross_entropy_0')\n",
    "    assert crossEntropyLoss.compute_loss(y_out_softmax, np.array([0, 2])) == 1.7531091265562448"
   ]
  },
  {
   "cell_type": "markdown",
   "metadata": {},
   "source": [
    "Sanity checks to see if `Activation` and `Loss` implementation is correct:"
   ]
  },
  {
   "cell_type": "code",
   "execution_count": 16,
   "metadata": {},
   "outputs": [
    {
     "ename": "ValueError",
     "evalue": "cannot reshape array of size 4 into shape (2,3)",
     "output_type": "error",
     "traceback": [
      "\u001b[0;31m---------------------------------------------------------------------------\u001b[0m",
      "\u001b[0;31mValueError\u001b[0m                                Traceback (most recent call last)",
      "\u001b[0;32m<ipython-input-16-fbd0f8d93f40>\u001b[0m in \u001b[0;36m<module>\u001b[0;34m()\u001b[0m\n\u001b[0;32m----> 1\u001b[0;31m \u001b[0mcheck_activation_and_loss_imp\u001b[0m\u001b[0;34m(\u001b[0m\u001b[0;34m)\u001b[0m\u001b[0;34m\u001b[0m\u001b[0m\n\u001b[0m",
      "\u001b[0;32m<ipython-input-15-5b878931111b>\u001b[0m in \u001b[0;36mcheck_activation_and_loss_imp\u001b[0;34m()\u001b[0m\n\u001b[1;32m     91\u001b[0m \u001b[0;34m\u001b[0m\u001b[0m\n\u001b[1;32m     92\u001b[0m     \u001b[0msoftmaxAct\u001b[0m \u001b[0;34m=\u001b[0m \u001b[0mActivation\u001b[0m\u001b[0;34m(\u001b[0m\u001b[0;34m'softmax_0'\u001b[0m\u001b[0;34m)\u001b[0m\u001b[0;34m\u001b[0m\u001b[0m\n\u001b[0;32m---> 93\u001b[0;31m     \u001b[0my_out_softmax\u001b[0m \u001b[0;34m=\u001b[0m \u001b[0msoftmaxAct\u001b[0m\u001b[0;34m.\u001b[0m\u001b[0mactivate\u001b[0m\u001b[0;34m(\u001b[0m\u001b[0my_out\u001b[0m\u001b[0;34m)\u001b[0m\u001b[0;34m\u001b[0m\u001b[0m\n\u001b[0m\u001b[1;32m     94\u001b[0m \u001b[0;34m\u001b[0m\u001b[0m\n\u001b[1;32m     95\u001b[0m     \u001b[0mprint\u001b[0m\u001b[0;34m(\u001b[0m\u001b[0mnp\u001b[0m\u001b[0;34m.\u001b[0m\u001b[0msum\u001b[0m\u001b[0;34m(\u001b[0m\u001b[0my_out_softmax\u001b[0m\u001b[0;34m,\u001b[0m \u001b[0maxis\u001b[0m\u001b[0;34m=\u001b[0m\u001b[0;36m1\u001b[0m\u001b[0;34m)\u001b[0m\u001b[0;34m)\u001b[0m\u001b[0;34m\u001b[0m\u001b[0m\n",
      "\u001b[0;32m<ipython-input-15-5b878931111b>\u001b[0m in \u001b[0;36mactivate\u001b[0;34m(self, X)\u001b[0m\n\u001b[1;32m     36\u001b[0m             \u001b[0;32mraise\u001b[0m \u001b[0mException\u001b[0m\u001b[0;34m(\u001b[0m\u001b[0;34m'Non-supported activation function'\u001b[0m\u001b[0;34m)\u001b[0m\u001b[0;34m\u001b[0m\u001b[0m\n\u001b[1;32m     37\u001b[0m \u001b[0;34m\u001b[0m\u001b[0m\n\u001b[0;32m---> 38\u001b[0;31m         \u001b[0;32mreturn\u001b[0m \u001b[0mactivation_func\u001b[0m\u001b[0;34m(\u001b[0m\u001b[0mX\u001b[0m\u001b[0;34m)\u001b[0m\u001b[0;34m\u001b[0m\u001b[0m\n\u001b[0m\u001b[1;32m     39\u001b[0m \u001b[0;34m\u001b[0m\u001b[0m\n\u001b[1;32m     40\u001b[0m     \u001b[0;32mdef\u001b[0m \u001b[0mforward_propagate\u001b[0m\u001b[0;34m(\u001b[0m\u001b[0mself\u001b[0m\u001b[0;34m,\u001b[0m \u001b[0mX\u001b[0m\u001b[0;34m)\u001b[0m\u001b[0;34m:\u001b[0m\u001b[0;34m\u001b[0m\u001b[0m\n",
      "\u001b[0;32m<ipython-input-15-5b878931111b>\u001b[0m in \u001b[0;36mapply_softmax\u001b[0;34m(self, X)\u001b[0m\n\u001b[1;32m     17\u001b[0m         \u001b[0mexps\u001b[0m \u001b[0;34m=\u001b[0m \u001b[0mnp\u001b[0m\u001b[0;34m.\u001b[0m\u001b[0mexp\u001b[0m\u001b[0;34m(\u001b[0m\u001b[0mX\u001b[0m \u001b[0;34m-\u001b[0m \u001b[0mnp\u001b[0m\u001b[0;34m.\u001b[0m\u001b[0mmax\u001b[0m\u001b[0;34m(\u001b[0m\u001b[0mX\u001b[0m\u001b[0;34m)\u001b[0m\u001b[0;34m)\u001b[0m\u001b[0;34m\u001b[0m\u001b[0m\n\u001b[1;32m     18\u001b[0m \u001b[0;34m\u001b[0m\u001b[0m\n\u001b[0;32m---> 19\u001b[0;31m         \u001b[0msum_exps_1\u001b[0m \u001b[0;34m=\u001b[0m \u001b[0mnp\u001b[0m\u001b[0;34m.\u001b[0m\u001b[0mrepeat\u001b[0m\u001b[0;34m(\u001b[0m\u001b[0mexps\u001b[0m\u001b[0;34m.\u001b[0m\u001b[0msum\u001b[0m\u001b[0;34m(\u001b[0m\u001b[0maxis\u001b[0m\u001b[0;34m=\u001b[0m\u001b[0;36m1\u001b[0m\u001b[0;34m)\u001b[0m\u001b[0;34m,\u001b[0m \u001b[0mexps\u001b[0m\u001b[0;34m.\u001b[0m\u001b[0mshape\u001b[0m\u001b[0;34m[\u001b[0m\u001b[0;36m0\u001b[0m\u001b[0;34m]\u001b[0m\u001b[0;34m)\u001b[0m\u001b[0;34m.\u001b[0m\u001b[0mreshape\u001b[0m\u001b[0;34m(\u001b[0m\u001b[0mexps\u001b[0m\u001b[0;34m.\u001b[0m\u001b[0mshape\u001b[0m\u001b[0;34m[\u001b[0m\u001b[0;36m0\u001b[0m\u001b[0;34m]\u001b[0m\u001b[0;34m,\u001b[0m \u001b[0mexps\u001b[0m\u001b[0;34m.\u001b[0m\u001b[0mshape\u001b[0m\u001b[0;34m[\u001b[0m\u001b[0;36m1\u001b[0m\u001b[0;34m]\u001b[0m\u001b[0;34m)\u001b[0m\u001b[0;34m\u001b[0m\u001b[0m\n\u001b[0m\u001b[1;32m     20\u001b[0m \u001b[0;34m\u001b[0m\u001b[0m\n\u001b[1;32m     21\u001b[0m         \u001b[0;32mreturn\u001b[0m \u001b[0mexps\u001b[0m \u001b[0;34m/\u001b[0m \u001b[0msum_exps_1\u001b[0m\u001b[0;34m\u001b[0m\u001b[0m\n",
      "\u001b[0;31mValueError\u001b[0m: cannot reshape array of size 4 into shape (2,3)"
     ]
    }
   ],
   "source": [
    "check_activation_and_loss_imp()"
   ]
  },
  {
   "cell_type": "markdown",
   "metadata": {},
   "source": [
    "Finally, an MLP class"
   ]
  },
  {
   "cell_type": "code",
   "execution_count": 17,
   "metadata": {},
   "outputs": [],
   "source": [
    "class MLP():\n",
    "    \n",
    "    #  Let the number of training epochs, the mini-batch size, and the regularization parameter be parameters that are passed when training the network.\n",
    "    def __init__(self, epochs, batch_size=32, alpha=1.0, debug=True):\n",
    "        self.layers = []\n",
    "        \n",
    "        self.epochs = epochs\n",
    "        self.batch_size = batch_size\n",
    "        self.alpha = alpha\n",
    "        \n",
    "        self.debug = debug\n",
    "        \n",
    "    # Let the layer dimensions be parameters passed when the network is created\n",
    "    def add_layer(self, layer_type, dim_in=None, dim_out=None):\n",
    "        layer_type = layer_type.lower()\n",
    "        \n",
    "        num_of_layers = sum(layer_type in layer.name for layer in self.layers)\n",
    "        name = layer_type + '_' + str(num_of_layers)\n",
    "        \n",
    "        if layer_type == 'input':\n",
    "            self.layers.append(Input(name, dim_in, dim_out))\n",
    "            \n",
    "        elif layer_type == 'hidden':\n",
    "            self.layers.append(Hidden(name, dim_in, dim_out))\n",
    "        \n",
    "        elif layer_type == 'output':\n",
    "            self.layers.append(Output(name, dim_in, dim_out))\n",
    "            \n",
    "        elif 'activation' in layer_type:\n",
    "            self.layers.append(Activation(name))\n",
    "            \n",
    "        elif 'loss' in layer_type:\n",
    "            self.layers.append(Loss(name))\n",
    "        \n",
    "        else:\n",
    "            raise Exception('Non-supported layer type')\n",
    "        \n",
    "    def forward_propagate(self, X):\n",
    "        if self.debug:\n",
    "            print('Input shape:')\n",
    "            print(X.shape)\n",
    "        \n",
    "        for layer in self.layers:\n",
    "            if not isinstance(self, Loss):\n",
    "                if self.debug:\n",
    "                    print(layer.name)\n",
    "\n",
    "                X = layer.forward_propagate(X)\n",
    "\n",
    "                if self.debug:\n",
    "                    print(X.shape)\n",
    "            \n",
    "        return X\n",
    "        \n",
    "    def back_propagate(self, X, y):\n",
    "        for layer in reversed(self.layers):\n",
    "            if not isinstance(self, Activation) and isinstance(self, Loss):\n",
    "                if self.debug:\n",
    "                    print(layer.name)\n",
    "\n",
    "                X = layer.back_propagate(X, y)\n",
    "\n",
    "                if self.debug:\n",
    "                    print(X.shape)\n",
    "            \n",
    "        return X\n",
    "    \n",
    "    def train(self, X, y):\n",
    "        pass\n",
    "    \n",
    "    def predict(self, X):\n",
    "        y_out_softmax = self.forward_propagate(X)\n",
    "        \n",
    "        return np.max(y_out_softmax, axis=0)\n",
    "    \n",
    "    def do_SGD(self, params):\n",
    "        for param in params:\n",
    "            param[:] = param - self.lr * param.grad\n",
    "    "
   ]
  },
  {
   "cell_type": "code",
   "execution_count": 18,
   "metadata": {},
   "outputs": [
    {
     "name": "stdout",
     "output_type": "stream",
     "text": [
      "Input shape:\n",
      "(5000, 2)\n",
      "input_0\n",
      "(5000, 16)\n",
      "activation_relu_0\n",
      "(5000, 16)\n",
      "hidden_0\n",
      "(5000, 16)\n",
      "activation_relu_1\n",
      "(5000, 16)\n",
      "output_0\n",
      "(5000, 16)\n",
      "activation_softmax_0\n"
     ]
    },
    {
     "ename": "ValueError",
     "evalue": "cannot reshape array of size 25000000 into shape (5000,16)",
     "output_type": "error",
     "traceback": [
      "\u001b[0;31m---------------------------------------------------------------------------\u001b[0m",
      "\u001b[0;31mValueError\u001b[0m                                Traceback (most recent call last)",
      "\u001b[0;32m<ipython-input-18-3416cecb1f8f>\u001b[0m in \u001b[0;36m<module>\u001b[0;34m()\u001b[0m\n\u001b[1;32m      7\u001b[0m \u001b[0mNN\u001b[0m\u001b[0;34m.\u001b[0m\u001b[0madd_layer\u001b[0m\u001b[0;34m(\u001b[0m\u001b[0;34m'Activation_Softmax'\u001b[0m\u001b[0;34m)\u001b[0m\u001b[0;34m\u001b[0m\u001b[0m\n\u001b[1;32m      8\u001b[0m \u001b[0;34m\u001b[0m\u001b[0m\n\u001b[0;32m----> 9\u001b[0;31m \u001b[0my_out\u001b[0m \u001b[0;34m=\u001b[0m \u001b[0mNN\u001b[0m\u001b[0;34m.\u001b[0m\u001b[0mforward_propagate\u001b[0m\u001b[0;34m(\u001b[0m\u001b[0mX\u001b[0m\u001b[0;34m)\u001b[0m\u001b[0;34m\u001b[0m\u001b[0m\n\u001b[0m\u001b[1;32m     10\u001b[0m \u001b[0mprint\u001b[0m\u001b[0;34m(\u001b[0m\u001b[0my_out\u001b[0m\u001b[0;34m)\u001b[0m\u001b[0;34m\u001b[0m\u001b[0m\n\u001b[1;32m     11\u001b[0m \u001b[0;34m\u001b[0m\u001b[0m\n",
      "\u001b[0;32m<ipython-input-17-f7e34278041e>\u001b[0m in \u001b[0;36mforward_propagate\u001b[0;34m(self, X)\u001b[0m\n\u001b[1;32m     46\u001b[0m                     \u001b[0mprint\u001b[0m\u001b[0;34m(\u001b[0m\u001b[0mlayer\u001b[0m\u001b[0;34m.\u001b[0m\u001b[0mname\u001b[0m\u001b[0;34m)\u001b[0m\u001b[0;34m\u001b[0m\u001b[0m\n\u001b[1;32m     47\u001b[0m \u001b[0;34m\u001b[0m\u001b[0m\n\u001b[0;32m---> 48\u001b[0;31m                 \u001b[0mX\u001b[0m \u001b[0;34m=\u001b[0m \u001b[0mlayer\u001b[0m\u001b[0;34m.\u001b[0m\u001b[0mforward_propagate\u001b[0m\u001b[0;34m(\u001b[0m\u001b[0mX\u001b[0m\u001b[0;34m)\u001b[0m\u001b[0;34m\u001b[0m\u001b[0m\n\u001b[0m\u001b[1;32m     49\u001b[0m \u001b[0;34m\u001b[0m\u001b[0m\n\u001b[1;32m     50\u001b[0m                 \u001b[0;32mif\u001b[0m \u001b[0mself\u001b[0m\u001b[0;34m.\u001b[0m\u001b[0mdebug\u001b[0m\u001b[0;34m:\u001b[0m\u001b[0;34m\u001b[0m\u001b[0m\n",
      "\u001b[0;32m<ipython-input-15-5b878931111b>\u001b[0m in \u001b[0;36mforward_propagate\u001b[0;34m(self, X)\u001b[0m\n\u001b[1;32m     39\u001b[0m \u001b[0;34m\u001b[0m\u001b[0m\n\u001b[1;32m     40\u001b[0m     \u001b[0;32mdef\u001b[0m \u001b[0mforward_propagate\u001b[0m\u001b[0;34m(\u001b[0m\u001b[0mself\u001b[0m\u001b[0;34m,\u001b[0m \u001b[0mX\u001b[0m\u001b[0;34m)\u001b[0m\u001b[0;34m:\u001b[0m\u001b[0;34m\u001b[0m\u001b[0m\n\u001b[0;32m---> 41\u001b[0;31m         \u001b[0;32mreturn\u001b[0m \u001b[0mself\u001b[0m\u001b[0;34m.\u001b[0m\u001b[0mactivate\u001b[0m\u001b[0;34m(\u001b[0m\u001b[0mX\u001b[0m\u001b[0;34m)\u001b[0m\u001b[0;34m\u001b[0m\u001b[0m\n\u001b[0m\u001b[1;32m     42\u001b[0m \u001b[0;34m\u001b[0m\u001b[0m\n\u001b[1;32m     43\u001b[0m     \u001b[0;32mdef\u001b[0m \u001b[0mback_propagate\u001b[0m\u001b[0;34m(\u001b[0m\u001b[0mself\u001b[0m\u001b[0;34m,\u001b[0m \u001b[0mX\u001b[0m\u001b[0;34m,\u001b[0m \u001b[0my\u001b[0m\u001b[0;34m)\u001b[0m\u001b[0;34m:\u001b[0m\u001b[0;34m\u001b[0m\u001b[0m\n",
      "\u001b[0;32m<ipython-input-15-5b878931111b>\u001b[0m in \u001b[0;36mactivate\u001b[0;34m(self, X)\u001b[0m\n\u001b[1;32m     36\u001b[0m             \u001b[0;32mraise\u001b[0m \u001b[0mException\u001b[0m\u001b[0;34m(\u001b[0m\u001b[0;34m'Non-supported activation function'\u001b[0m\u001b[0;34m)\u001b[0m\u001b[0;34m\u001b[0m\u001b[0m\n\u001b[1;32m     37\u001b[0m \u001b[0;34m\u001b[0m\u001b[0m\n\u001b[0;32m---> 38\u001b[0;31m         \u001b[0;32mreturn\u001b[0m \u001b[0mactivation_func\u001b[0m\u001b[0;34m(\u001b[0m\u001b[0mX\u001b[0m\u001b[0;34m)\u001b[0m\u001b[0;34m\u001b[0m\u001b[0m\n\u001b[0m\u001b[1;32m     39\u001b[0m \u001b[0;34m\u001b[0m\u001b[0m\n\u001b[1;32m     40\u001b[0m     \u001b[0;32mdef\u001b[0m \u001b[0mforward_propagate\u001b[0m\u001b[0;34m(\u001b[0m\u001b[0mself\u001b[0m\u001b[0;34m,\u001b[0m \u001b[0mX\u001b[0m\u001b[0;34m)\u001b[0m\u001b[0;34m:\u001b[0m\u001b[0;34m\u001b[0m\u001b[0m\n",
      "\u001b[0;32m<ipython-input-15-5b878931111b>\u001b[0m in \u001b[0;36mapply_softmax\u001b[0;34m(self, X)\u001b[0m\n\u001b[1;32m     17\u001b[0m         \u001b[0mexps\u001b[0m \u001b[0;34m=\u001b[0m \u001b[0mnp\u001b[0m\u001b[0;34m.\u001b[0m\u001b[0mexp\u001b[0m\u001b[0;34m(\u001b[0m\u001b[0mX\u001b[0m \u001b[0;34m-\u001b[0m \u001b[0mnp\u001b[0m\u001b[0;34m.\u001b[0m\u001b[0mmax\u001b[0m\u001b[0;34m(\u001b[0m\u001b[0mX\u001b[0m\u001b[0;34m)\u001b[0m\u001b[0;34m)\u001b[0m\u001b[0;34m\u001b[0m\u001b[0m\n\u001b[1;32m     18\u001b[0m \u001b[0;34m\u001b[0m\u001b[0m\n\u001b[0;32m---> 19\u001b[0;31m         \u001b[0msum_exps_1\u001b[0m \u001b[0;34m=\u001b[0m \u001b[0mnp\u001b[0m\u001b[0;34m.\u001b[0m\u001b[0mrepeat\u001b[0m\u001b[0;34m(\u001b[0m\u001b[0mexps\u001b[0m\u001b[0;34m.\u001b[0m\u001b[0msum\u001b[0m\u001b[0;34m(\u001b[0m\u001b[0maxis\u001b[0m\u001b[0;34m=\u001b[0m\u001b[0;36m1\u001b[0m\u001b[0;34m)\u001b[0m\u001b[0;34m,\u001b[0m \u001b[0mexps\u001b[0m\u001b[0;34m.\u001b[0m\u001b[0mshape\u001b[0m\u001b[0;34m[\u001b[0m\u001b[0;36m0\u001b[0m\u001b[0;34m]\u001b[0m\u001b[0;34m)\u001b[0m\u001b[0;34m.\u001b[0m\u001b[0mreshape\u001b[0m\u001b[0;34m(\u001b[0m\u001b[0mexps\u001b[0m\u001b[0;34m.\u001b[0m\u001b[0mshape\u001b[0m\u001b[0;34m[\u001b[0m\u001b[0;36m0\u001b[0m\u001b[0;34m]\u001b[0m\u001b[0;34m,\u001b[0m \u001b[0mexps\u001b[0m\u001b[0;34m.\u001b[0m\u001b[0mshape\u001b[0m\u001b[0;34m[\u001b[0m\u001b[0;36m1\u001b[0m\u001b[0;34m]\u001b[0m\u001b[0;34m)\u001b[0m\u001b[0;34m\u001b[0m\u001b[0m\n\u001b[0m\u001b[1;32m     20\u001b[0m \u001b[0;34m\u001b[0m\u001b[0m\n\u001b[1;32m     21\u001b[0m         \u001b[0;32mreturn\u001b[0m \u001b[0mexps\u001b[0m \u001b[0;34m/\u001b[0m \u001b[0msum_exps_1\u001b[0m\u001b[0;34m\u001b[0m\u001b[0m\n",
      "\u001b[0;31mValueError\u001b[0m: cannot reshape array of size 25000000 into shape (5000,16)"
     ]
    }
   ],
   "source": [
    "NN = MLP(epochs=10, batch_size=32, alpha=0.0)\n",
    "NN.add_layer('Input', dim_in=2, dim_out=16)\n",
    "NN.add_layer('Activation_Relu')\n",
    "NN.add_layer('Hidden', dim_in=16, dim_out=16)\n",
    "NN.add_layer('Activation_Relu')\n",
    "NN.add_layer('Output', dim_in=16, dim_out=16)\n",
    "NN.add_layer('Activation_Softmax')\n",
    "\n",
    "y_out = NN.forward_propagate(X)\n",
    "print(y_out)\n",
    "\n",
    "y_outs = NN.predict(X)\n",
    "# loss = NN.back_propagate(y_out, y)\n",
    "\n",
    "# NN.add_layer('Hidden', dim_in=16, dim_out=16)\n",
    "# NN.add_layer('Output', dim_in=16, dim_out=3)\n",
    "# NN.add_layer('Loss', dim_in=3, dim_out=3)\n",
    "\n",
    "# loss = NN.train(X, y, epochs=100, bsize=8, alpha=0.0)\n",
    "# plot_loss(loss)\n",
    "# plot_decision_regions(NN)"
   ]
  },
  {
   "cell_type": "code",
   "execution_count": null,
   "metadata": {},
   "outputs": [],
   "source": [
    "y_outs.shape"
   ]
  },
  {
   "cell_type": "code",
   "execution_count": null,
   "metadata": {},
   "outputs": [],
   "source": []
  },
  {
   "cell_type": "code",
   "execution_count": null,
   "metadata": {},
   "outputs": [],
   "source": []
  },
  {
   "cell_type": "code",
   "execution_count": null,
   "metadata": {},
   "outputs": [],
   "source": []
  }
 ],
 "metadata": {
  "kernelspec": {
   "display_name": "Python 3",
   "language": "python",
   "name": "python3"
  },
  "language_info": {
   "codemirror_mode": {
    "name": "ipython",
    "version": 3
   },
   "file_extension": ".py",
   "mimetype": "text/x-python",
   "name": "python",
   "nbconvert_exporter": "python",
   "pygments_lexer": "ipython3",
   "version": "3.6.5"
  }
 },
 "nbformat": 4,
 "nbformat_minor": 2
}
