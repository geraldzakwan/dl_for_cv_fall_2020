{
 "cells": [
  {
   "cell_type": "markdown",
   "metadata": {},
   "source": [
    "# Deep Learning for Computer Vision:  HW 3\n"
   ]
  },
  {
   "cell_type": "markdown",
   "metadata": {},
   "source": [
    "## Computer Science: COMS W 4995 004\n"
   ]
  },
  {
   "cell_type": "markdown",
   "metadata": {},
   "source": [
    "### Due: October 20, 2020"
   ]
  },
  {
   "cell_type": "markdown",
   "metadata": {},
   "source": [
    "Hi all, here is a check list(rough rubric) for HW3.\n",
    "This is pretty much the same as what questions asked. You might want to check all those below\n",
    "before submit your HW.\n",
    "\n",
    "a)  60 points\n",
    "Will be focusing on whether you satisfied all required conditions when building and training your network. Points will be (roughly) evenly allocated to the following conditions.\n",
    "1. If you implemented each (hidden, output, loss) layer type as separate classes and had all mentioned functions for each class.\n",
    "2. If you Implement a MLP class with all mentioned functions.\n",
    "3. If you used the required activation function.\n",
    "4. If you used softmax.\n",
    "5. If loss is correctly computed.\n",
    "6. Layers’ dimensions are properly passed as required.\n",
    "7. Training parameters are properly passed as required.\n",
    "8. If you used regularization in a correct way\n",
    "9. Run the network using the same or similar code given in the notebook.\n",
    "\n",
    "b) 5 points\n",
    "1. If you densely generated points for the whole plane in a proper way.\n",
    "2. If you colored the points in a correct way\n",
    "\n",
    "c) 15 points\n",
    "If you tried all required parameters and plotted the decision region for each.\n",
    "\n",
    "d) 20 points\n",
    "1. If you separated your data\n",
    "2. If you implemented early stopping correctly\n",
    "3. If you computed accuracy\n",
    "It could be changed a bit during grading, but not much. There will be deduction in points if the results are not as expected.\n",
    "In HW2, there were many students implemented models correct but not trained it enough.  Try to use matrices in minibatch calculations(not calculating individual samples using for loop). Then it will take not too long to train more epochs."
   ]
  },
  {
   "cell_type": "markdown",
   "metadata": {},
   "source": [
    "#### Problem"
   ]
  },
  {
   "cell_type": "markdown",
   "metadata": {},
   "source": [
    "a) You are given two dimensional input from three separate classes. Your task is to implement a multi-layer perceptron (MLP) 3-class classifier with multiple hidden layers and a regularization on the weights. For the activiation function of the hidden units use ReLU or leaky ReLU. For the predictions use softmax on a linear output layer as we did in class. Your loss layer should compute $-\\log P(y = i \\,|{\\bf x})$ where $i$ is the correct label according to the training data.\n",
    "\n",
    "Implement each layer type (hidden, output, and loss) as separate python classes, each with methods for initialization, forward propagation, and backpropagation.\n",
    "\n",
    "Implement a MLP as its own class, with separate methods for initialization, adding a layer, forward propagation, backpropagation, training and prediction. \n",
    "\n",
    "Let the layer dimensions be parameters passed when the network is created.\n",
    "\n",
    "Let the number of training epochs, the mini-batch size, and the regularization parameter be parameters that are passed when training the network.\n",
    "\n",
    "Build and run your network using your own constructs. The code for doing this might look like what is shown in the next box below.\n",
    "\n",
    "b) Show the decision regions of the trained classifier by densely generating points in the plane and color coding these points with the three different labels. \n",
    "\n",
    "c) Repeat varying the number of hidden units (3, 8, 16), the number of hidden layers (1 and 3), and the regularization value (0 and some other value of your choosing).\n",
    "\n",
    "d) Re-use this same network on any data of your own choosing. You can increase the dimensionality of the features space as you like. You can also change the number of classes to just two or more than three to align with your data. Separate your data into three piles: training, testing, and validation. Use your testing data to decide when to stop training if appropriate. Use your validation set to compute the accuracy of you classfier. "
   ]
  },
  {
   "cell_type": "code",
   "execution_count": 1,
   "metadata": {},
   "outputs": [],
   "source": [
    "# NN = MLP()\n",
    "# NN.add_layer('Hidden', dim_in=2, dim_out=16)\n",
    "# NN.add_layer('Hidden', dim_in=16, dim_out=16)\n",
    "# NN.add_layer('Hidden', dim_in=16, dim_out=16)\n",
    "# NN.add_layer('Output', dim_in=16, dim_out=3)\n",
    "# NN.add_layer('Loss', dim_in=3, dim_out=3)\n",
    "\n",
    "# loss = NN.train(X, y, epochs=100, bsize=8, alpha=0.0)\n",
    "# plot_loss(loss)\n",
    "# plot_decision_regions(NN)"
   ]
  },
  {
   "cell_type": "markdown",
   "metadata": {},
   "source": [
    " \n",
    "\n",
    "#### NOTE:  Do not to use keras, tensorflow, pytorch, sklearn, etc. to do this.  You must build the machine learning components from scratch.  \n",
    "\n",
    "#### YOUR CODE MUST BE YOUR OWN.\n",
    "_______________________________________________________________\n",
    "\n"
   ]
  },
  {
   "cell_type": "markdown",
   "metadata": {
    "collapsed": true
   },
   "source": [
    "Let's start by importing some libraries."
   ]
  },
  {
   "cell_type": "code",
   "execution_count": 2,
   "metadata": {},
   "outputs": [],
   "source": [
    "import numpy as np\n",
    "import random\n",
    "import pandas as pd\n",
    "import matplotlib.pyplot as plt\n",
    "%matplotlib inline"
   ]
  },
  {
   "cell_type": "markdown",
   "metadata": {},
   "source": [
    "Let's make up our 2D data for our three classes."
   ]
  },
  {
   "cell_type": "code",
   "execution_count": 3,
   "metadata": {},
   "outputs": [
    {
     "data": {
      "text/html": [
       "<div>\n",
       "<style scoped>\n",
       "    .dataframe tbody tr th:only-of-type {\n",
       "        vertical-align: middle;\n",
       "    }\n",
       "\n",
       "    .dataframe tbody tr th {\n",
       "        vertical-align: top;\n",
       "    }\n",
       "\n",
       "    .dataframe thead th {\n",
       "        text-align: right;\n",
       "    }\n",
       "</style>\n",
       "<table border=\"1\" class=\"dataframe\">\n",
       "  <thead>\n",
       "    <tr style=\"text-align: right;\">\n",
       "      <th></th>\n",
       "      <th>x1</th>\n",
       "      <th>x2</th>\n",
       "      <th>y</th>\n",
       "    </tr>\n",
       "  </thead>\n",
       "  <tbody>\n",
       "    <tr>\n",
       "      <th>0</th>\n",
       "      <td>-0.316679</td>\n",
       "      <td>-1.228693</td>\n",
       "      <td>2.0</td>\n",
       "    </tr>\n",
       "    <tr>\n",
       "      <th>1</th>\n",
       "      <td>0.305346</td>\n",
       "      <td>-0.492356</td>\n",
       "      <td>0.0</td>\n",
       "    </tr>\n",
       "    <tr>\n",
       "      <th>2</th>\n",
       "      <td>0.870737</td>\n",
       "      <td>-0.215938</td>\n",
       "      <td>0.0</td>\n",
       "    </tr>\n",
       "    <tr>\n",
       "      <th>3</th>\n",
       "      <td>-1.016558</td>\n",
       "      <td>-0.978605</td>\n",
       "      <td>1.0</td>\n",
       "    </tr>\n",
       "    <tr>\n",
       "      <th>4</th>\n",
       "      <td>-1.158829</td>\n",
       "      <td>0.850094</td>\n",
       "      <td>0.0</td>\n",
       "    </tr>\n",
       "  </tbody>\n",
       "</table>\n",
       "</div>"
      ],
      "text/plain": [
       "         x1        x2    y\n",
       "0 -0.316679 -1.228693  2.0\n",
       "1  0.305346 -0.492356  0.0\n",
       "2  0.870737 -0.215938  0.0\n",
       "3 -1.016558 -0.978605  1.0\n",
       "4 -1.158829  0.850094  0.0"
      ]
     },
     "execution_count": 3,
     "metadata": {},
     "output_type": "execute_result"
    }
   ],
   "source": [
    "data = pd.DataFrame(np.zeros((5000, 3)), columns=['x1', 'x2', 'y'])\n",
    "\n",
    "# Let's make up some noisy XOR data to use to build our binary classifier\n",
    "for i in range(len(data.index)):\n",
    "    x1 = random.randint(0,1)\n",
    "    x2 = random.randint(0,1)\n",
    "    if x1 == 1 and x2 == 0:\n",
    "        y = 0\n",
    "    elif x1 == 0 and x2 == 1:\n",
    "        y = 0\n",
    "    elif x1 == 0 and x2 == 0:\n",
    "        y = 1\n",
    "    else:\n",
    "        y = 2\n",
    "    x1 = 1.0 * x1 + 0.20 * np.random.normal()\n",
    "    x2 = 1.0 * x2 + 0.20 * np.random.normal()\n",
    "    data.iloc[i,0] = x1\n",
    "    data.iloc[i,1] = x2\n",
    "    data.iloc[i,2] = y\n",
    "    \n",
    "for i in range(int(0.25 *len(data.index))):\n",
    "    k = np.random.randint(len(data.index)-1)  \n",
    "    data.iloc[k,0] = 1.5 + 0.20 * np.random.normal()\n",
    "    data.iloc[k,1] = 1.5 + 0.20 * np.random.normal()\n",
    "    data.iloc[k,2] = 1\n",
    "\n",
    "for i in range(int(0.25 *len(data.index))):\n",
    "    k = np.random.randint(len(data.index)-1)  \n",
    "    data.iloc[k,0] = 0.5 + 0.20 * np.random.normal()\n",
    "    data.iloc[k,1] = -0.75 + 0.20 * np.random.normal()\n",
    "    data.iloc[k,2] = 2\n",
    "    \n",
    "# Now let's normalize this data.\n",
    "data.iloc[:,0] = (data.iloc[:,0] - data['x1'].mean()) / data['x1'].std()\n",
    "data.iloc[:,1] = (data.iloc[:,1] - data['x2'].mean()) / data['x2'].std()\n",
    "        \n",
    "data.head()"
   ]
  },
  {
   "cell_type": "markdown",
   "metadata": {},
   "source": [
    "Let's message this data into a numpy format."
   ]
  },
  {
   "cell_type": "code",
   "execution_count": 4,
   "metadata": {},
   "outputs": [],
   "source": [
    "# set X (training data) and y (target variable)\n",
    "cols = data.shape[1]\n",
    "X = data.iloc[:,0:cols-1]\n",
    "y = data.iloc[:,cols-1:cols]\n",
    "\n",
    "# The cost function is expecting numpy matrices so we need to convert X and y before we can use them.  \n",
    "X = np.matrix(X.values)\n",
    "y = np.matrix(y.values)"
   ]
  },
  {
   "cell_type": "markdown",
   "metadata": {},
   "source": [
    "Let's make a sloppy plotting function for our binary data."
   ]
  },
  {
   "cell_type": "code",
   "execution_count": 5,
   "metadata": {},
   "outputs": [],
   "source": [
    "# Sloppy function for plotting our data\n",
    "def plot_data(X, y_predict):\n",
    "    \n",
    "    fig, ax = plt.subplots(figsize=(12,8))\n",
    "    ax.margins(0.05) # Optional, just adds 5% padding to the autoscaling\n",
    "\n",
    "    indices_0 = [k for k in range(0, X.shape[0]) if y_predict[k] == 0]\n",
    "    indices_1 = [k for k in range(0, X.shape[0]) if y_predict[k] == 1]\n",
    "    indices_2 = [k for k in range(0, X.shape[0]) if y_predict[k] == 2]\n",
    "\n",
    "    ax.plot(X[indices_0, 0], X[indices_0,1], marker='o', linestyle='', ms=5, label='0')\n",
    "    ax.plot(X[indices_1, 0], X[indices_1,1], marker='o', linestyle='', ms=5, label='1')\n",
    "    ax.plot(X[indices_2, 0], X[indices_2,1], marker='o', linestyle='', ms=5, label='2')\n",
    "\n",
    "    ax.legend()\n",
    "    ax.legend(loc=2)\n",
    "    ax.set_xlabel('x1')\n",
    "    ax.set_ylabel('x2')\n",
    "    ax.set_title('Tricky 3 Class Classification')\n",
    "    plt.show()"
   ]
  },
  {
   "cell_type": "markdown",
   "metadata": {},
   "source": [
    "Now let's plot it."
   ]
  },
  {
   "cell_type": "code",
   "execution_count": 6,
   "metadata": {},
   "outputs": [
    {
     "data": {
      "image/png": "[encoded data removed]",
      "text/plain": [
       "<Figure size 864x576 with 1 Axes>"
      ]
     },
     "metadata": {
      "needs_background": "light"
     },
     "output_type": "display_data"
    }
   ],
   "source": [
    "plot_data(X, y)"
   ]
  },
  {
   "cell_type": "markdown",
   "metadata": {},
   "source": [
    "Now build your network. Good luck! 😉 "
   ]
  },
  {
   "cell_type": "markdown",
   "metadata": {},
   "source": [
    "Change `X` and `y` into `ndarray` and do sanity check"
   ]
  },
  {
   "cell_type": "code",
   "execution_count": 7,
   "metadata": {},
   "outputs": [
    {
     "name": "stdout",
     "output_type": "stream",
     "text": [
      "[[-0.31667909 -1.22869302]\n",
      " [ 0.30534566 -0.49235641]\n",
      " [ 0.87073722 -0.2159378 ]\n",
      " [-1.01655776 -0.97860542]\n",
      " [-1.15882858  0.85009394]\n",
      " [-1.05264555 -0.57400592]\n",
      " [ 0.05915533 -1.24136426]\n",
      " [ 1.32458622  1.60123673]\n",
      " [-0.78999836 -1.04321445]\n",
      " [-0.31876871 -1.30424446]]\n",
      "[[2.]\n",
      " [0.]\n",
      " [0.]\n",
      " [1.]\n",
      " [0.]\n",
      " [1.]\n",
      " [2.]\n",
      " [1.]\n",
      " [2.]\n",
      " [2.]]\n"
     ]
    }
   ],
   "source": [
    "X = np.array(X)\n",
    "y = np.array(y)\n",
    "\n",
    "assert X.shape == (5000, 2)\n",
    "print(X[0:10])\n",
    "\n",
    "assert y.shape == (5000, 1)\n",
    "print(y[0:10])"
   ]
  },
  {
   "cell_type": "markdown",
   "metadata": {},
   "source": [
    "Flatten `y` and set elements as `integer`. This step is needed to enable slicing through `y` elements."
   ]
  },
  {
   "cell_type": "code",
   "execution_count": 8,
   "metadata": {},
   "outputs": [],
   "source": [
    "# y = np.array(y.flatten(), dtype='int32')"
   ]
  },
  {
   "cell_type": "markdown",
   "metadata": {},
   "source": [
    "Apply `one hot encoding` to `y`, check if the encoding is correct by comparing to the `y` print above"
   ]
  },
  {
   "cell_type": "code",
   "execution_count": 9,
   "metadata": {},
   "outputs": [
    {
     "name": "stdout",
     "output_type": "stream",
     "text": [
      "[[0. 0. 1.]\n",
      " [1. 0. 0.]\n",
      " [1. 0. 0.]\n",
      " [0. 1. 0.]\n",
      " [1. 0. 0.]\n",
      " [0. 1. 0.]\n",
      " [0. 0. 1.]\n",
      " [0. 1. 0.]\n",
      " [0. 0. 1.]\n",
      " [0. 0. 1.]]\n"
     ]
    }
   ],
   "source": [
    "data = np.array(y.flatten(), dtype='int32')\n",
    "shape = (data.size, int(data.max() + 1))\n",
    "\n",
    "y = np.zeros(shape)\n",
    "rows = np.arange(data.size)\n",
    "\n",
    "y[rows, data] = 1.0\n",
    "print(y[0:10])"
   ]
  },
  {
   "cell_type": "markdown",
   "metadata": {},
   "source": [
    "### a) Implement MLP"
   ]
  },
  {
   "cell_type": "markdown",
   "metadata": {
    "collapsed": true
   },
   "source": [
    "#### a.1 Implement each layer type (hidden, output, and loss) as separate python classes, each with methods for initialization, forward propagation, and backpropagation."
   ]
  },
  {
   "cell_type": "markdown",
   "metadata": {},
   "source": [
    "Create a base class for `Layer`"
   ]
  },
  {
   "cell_type": "code",
   "execution_count": 10,
   "metadata": {},
   "outputs": [],
   "source": [
    "from abc import ABC, abstractmethod\n",
    " \n",
    "class Layer(ABC):\n",
    " \n",
    "    def __init__(self, name, dim_in=None, dim_out=None, weight_init='standard', debug=False):\n",
    "        self.name = name\n",
    "        \n",
    "        self.dim_in = dim_in\n",
    "        self.dim_out = dim_out\n",
    "     \n",
    "        if isinstance(self, Input) or isinstance(self, Hidden) or isinstance(self, Output):\n",
    "            self.weight_init = weight_init\n",
    "            self.init_weights()\n",
    "            \n",
    "        self.debug = debug\n",
    "        \n",
    "    def init_weights(self):\n",
    "        init_method = self.weight_init.lower()\n",
    "        \n",
    "        if init_method == 'standard':\n",
    "            # Init weights using standard random distribution\n",
    "            self.W = np.random.normal(0, 1, self.dim_in*self.dim_out).reshape(self.dim_in, self.dim_out)\n",
    "            \n",
    "        else:\n",
    "            raise Exception('Non-supported initialization method')\n",
    "            \n",
    "        # Set all bias to zeros\n",
    "        self.b = np.zeros(self.dim_out, dtype='float32')\n",
    "    \n",
    "    @abstractmethod\n",
    "    def forward_propagate(self, X, y):\n",
    "        pass\n",
    "    \n",
    "    @abstractmethod\n",
    "    def back_propagate(self, grads):\n",
    "        pass"
   ]
  },
  {
   "cell_type": "markdown",
   "metadata": {},
   "source": [
    "First, create class for `Input`, `Hidden` layer and `Output` layer"
   ]
  },
  {
   "cell_type": "code",
   "execution_count": 11,
   "metadata": {},
   "outputs": [],
   "source": [
    "class Input(Layer):\n",
    "\n",
    "    def __init__(self, name, dim_in, dim_out, debug=False):\n",
    "        super().__init__(name, dim_in, dim_out, debug)\n",
    "        \n",
    "    def forward_propagate(self, X, y=None):\n",
    "        self.X = X\n",
    "        \n",
    "        return np.dot(X, self.W) + self.b\n",
    "        \n",
    "    def back_propagate(self, grads):\n",
    "        pass\n",
    "        \n",
    "class Hidden(Layer):\n",
    "\n",
    "    def __init__(self, name, dim_in, dim_out, debug=False):\n",
    "        super().__init__(name, dim_in, dim_out, debug)\n",
    "        \n",
    "    def forward_propagate(self, X, y=None):\n",
    "        self.X = X\n",
    "        \n",
    "        return np.dot(X, self.W) + self.b\n",
    "        \n",
    "    def back_propagate(self, grads):\n",
    "        pass\n",
    "\n",
    "class Output(Layer):\n",
    "    \n",
    "    def __init__(self, name, dim_in, dim_out, debug=False):\n",
    "        super().__init__(name, dim_in, dim_out, debug)\n",
    "        \n",
    "    def forward_propagate(self, X, y=None):\n",
    "        self.X = X\n",
    "        \n",
    "        return np.dot(X, self.W) + self.b\n",
    "        \n",
    "    def back_propagate(self, grads):\n",
    "        self.grad_W = (np.matmul(self.X[:, :, np.newaxis], grads[:, np.newaxis,:])).mean(axis=0)\n",
    "        self.grad_b = grads.mean(axis=0)\n",
    "        \n",
    "        return np.dot(grads, self.W.transpose())"
   ]
  },
  {
   "cell_type": "markdown",
   "metadata": {},
   "source": [
    "Then, let's implement the `Activation` and `Loss` classes"
   ]
  },
  {
   "cell_type": "code",
   "execution_count": 12,
   "metadata": {},
   "outputs": [],
   "source": [
    "class Activation(Layer):\n",
    "    \n",
    "    def __init__(self, name, debug=False):\n",
    "        super().__init__(name, debug)\n",
    "        \n",
    "    # ReLU for hidden layer\n",
    "    def apply_relu(self): \n",
    "        # For ReLU, need to keep X original values\n",
    "        self.X_linear = np.copy(self.X)\n",
    "        \n",
    "        return np.clip(self.X, 0, None)\n",
    "\n",
    "    # Leaky ReLU for hidden layer\n",
    "    def apply_leaky_relu(self):\n",
    "        return np.where(self.X < 0, 0.3 * self.X, self.X)\n",
    "    \n",
    "    # Softmax for output layer\n",
    "    def apply_softmax(self):\n",
    "        self.y_probs = np.exp(self.X) / np.exp(self.X).sum(axis=1)[:, np.newaxis]\n",
    "    \n",
    "        return self.y_probs\n",
    "    \n",
    "    def compute_relu_derivative(self, grads):\n",
    "        return np.where(self.X_linear > 0, grads, 0)\n",
    "    \n",
    "    def compute_leaky_relu_derivative(self, grads):\n",
    "        pass\n",
    "    \n",
    "    def compute_softmax_derivative(self, grads):\n",
    "        return self.y_probs * (grads - (grads * self.y_probs).sum(axis=1)[:, np.newaxis])\n",
    "\n",
    "    # Wrapper for activations\n",
    "    def activate(self):\n",
    "        # IMPORTANT: CHECK leaky_relu FIRST\n",
    "        if 'leaky_relu' in self.name:\n",
    "            activation_func = self.apply_leaky_relu\n",
    "        \n",
    "        elif 'relu' in self.name: \n",
    "            activation_func = self.apply_relu\n",
    "            \n",
    "        elif 'softmax' in self.name:\n",
    "            activation_func = self.apply_softmax\n",
    "        \n",
    "        else:\n",
    "            raise Exception('Non-supported activation function')\n",
    "            \n",
    "        return activation_func()\n",
    "            \n",
    "    def forward_propagate(self, X, y=None):\n",
    "        self.X = X\n",
    "        \n",
    "        return self.activate()\n",
    "    \n",
    "    def back_propagate(self, grads):\n",
    "        if 'leaky_relu' in self.name:\n",
    "            derivative_func = self.compute_leaky_relu_derivative\n",
    "        \n",
    "        elif 'relu' in self.name:\n",
    "            derivative_func = self.compute_relu_derivative\n",
    "            \n",
    "        elif 'softmax' in self.name:\n",
    "            derivative_func = self.compute_softmax_derivative\n",
    "        \n",
    "        else:\n",
    "            raise Exception('Non-supported activation function')\n",
    "            \n",
    "        return derivative_func(grads)\n",
    "\n",
    "class Loss(Layer):\n",
    "    \n",
    "    def __init__(self, name, debug=False):\n",
    "        super().__init__(name, debug)\n",
    "        \n",
    "    # Losses in the output layer\n",
    "    # X has shape of (num_examples, num_classes)\n",
    "    # y has shape of (num_examples,)\n",
    "    # Note that y needs to be ONE-HOT ENCODED \n",
    "    # IMPORTANT: APPLY SOFTMAX to X beforehand\n",
    "    def apply_cross_entropy(self):\n",
    "        return (np.where(self.y==1.0, -np.log(self.X), 0.0)).sum(axis=1)\n",
    "    \n",
    "    # Wrapper for loss\n",
    "    def compute_loss(self):\n",
    "        if self.debug:\n",
    "            print('y_out shape: {}'.format(y_out.shape))\n",
    "            print('y shape: {}'.format(y.shape))\n",
    "            \n",
    "        if 'cross_entropy' in self.name:\n",
    "            loss_func = self.apply_cross_entropy\n",
    "            \n",
    "        else:\n",
    "            raise Exception('Non-supported loss function')\n",
    "            \n",
    "        return loss_func()\n",
    "            \n",
    "    def forward_propagate(self, X, y):\n",
    "        # Need to keep X and y\n",
    "        # Ignore very small Xs, say 1e-10\n",
    "        self.X = X.clip(min=1e-10, max=None)\n",
    "        self.y = y\n",
    "        \n",
    "        return self.compute_loss()\n",
    "    \n",
    "    def back_propagate(self, grads=None):    \n",
    "        return np.where(self.y==1.0, -1/self.X, 0.0)\n",
    "\n",
    "def check_activation_and_loss_imp():\n",
    "    y_out = np.array([1.0, -2.0, 3.0, -5.0])\n",
    "    \n",
    "    reluAct = Activation('relu_0')\n",
    "    leakyReluAct = Activation('leaky_relu_0')\n",
    "    \n",
    "    assert (reluAct.forward_propagate(y_out) == np.array([1., 0., 3., 0])).all()\n",
    "    assert (leakyReluAct.forward_propagate(y_out) == np.array([ 1. , -0.6,  3. , -1.5])).all()\n",
    "    \n",
    "    y_out = np.array([[1.0, 2.0, 3.0], [2.0, 2.0, 2.0]])\n",
    "    \n",
    "    softmaxAct = Activation('softmax_0', False)\n",
    "    y_out_softmax = softmaxAct.forward_propagate(y_out)\n",
    "    \n",
    "    print(np.sum(y_out_softmax, axis=1))\n",
    "    \n",
    "    crossEntropyLoss = Loss('cross_entropy_0')\n",
    "    print(crossEntropyLoss.forward_propagate(y_out_softmax, np.array([[1.0, 0.0, 0.0], [0.0, 0.0, 1.0]])))"
   ]
  },
  {
   "cell_type": "markdown",
   "metadata": {},
   "source": [
    "Sanity checks to see if `Activation` and `Loss` implementation is correct:"
   ]
  },
  {
   "cell_type": "code",
   "execution_count": 13,
   "metadata": {},
   "outputs": [
    {
     "name": "stdout",
     "output_type": "stream",
     "text": [
      "[1. 1.]\n",
      "[2.40760596 1.09861229]\n"
     ]
    }
   ],
   "source": [
    "check_activation_and_loss_imp()"
   ]
  },
  {
   "cell_type": "markdown",
   "metadata": {},
   "source": [
    "Finally, an MLP class"
   ]
  },
  {
   "cell_type": "code",
   "execution_count": 14,
   "metadata": {},
   "outputs": [],
   "source": [
    "class MLP():\n",
    "    \n",
    "    #  Let the number of training epochs, the mini-batch size, and the regularization parameter be parameters that are passed when training the network.\n",
    "    def __init__(self, debug=True):\n",
    "        self.layers = []\n",
    "        self.losses = []\n",
    "        \n",
    "        self.debug = debug\n",
    "        \n",
    "    # Let the layer dimensions be parameters passed when the network is created\n",
    "    def add_layer(self, layer_type, dim_in=None, dim_out=None, weight_init='standard'):\n",
    "        layer_type = layer_type.lower()\n",
    "        \n",
    "        num_of_layers = sum(layer_type in layer.name for layer in self.layers)\n",
    "        name = layer_type + '_' + str(num_of_layers)\n",
    "        \n",
    "        if layer_type == 'input':\n",
    "            self.layers.append(Input(name, dim_in, dim_out, weight_init))\n",
    "            \n",
    "        elif layer_type == 'hidden':\n",
    "            self.layers.append(Hidden(name, dim_in, dim_out, weight_init))\n",
    "        \n",
    "        elif layer_type == 'output':\n",
    "            self.layers.append(Output(name, dim_in, dim_out, weight_init))\n",
    "            \n",
    "        elif 'activation' in layer_type:\n",
    "            self.layers.append(Activation(name))\n",
    "            \n",
    "        elif 'loss' in layer_type:\n",
    "            self.layers.append(Loss(name))\n",
    "        \n",
    "        else:\n",
    "            raise Exception('Non-supported layer type')\n",
    "        \n",
    "    def forward_propagate(self, X, y):\n",
    "        if self.debug:\n",
    "            print('Forward propagating...')\n",
    "            print('Input shape: {}'.format(X.shape))\n",
    "        \n",
    "        for layer in self.layers:\n",
    "            if self.debug:\n",
    "                print('Layer name: {}'.format(layer.name))\n",
    "                    \n",
    "            if not isinstance(layer, Loss):\n",
    "\n",
    "                X = layer.forward_propagate(X)\n",
    "\n",
    "                if self.debug:\n",
    "                    print('Output shape: {}'.format(X.shape))\n",
    "                    \n",
    "            else:\n",
    "                loss = layer.forward_propagate(X, y)\n",
    "                \n",
    "                if self.debug:\n",
    "                    print('Loss shape: {}'.format(loss.shape))\n",
    "            \n",
    "        return loss \n",
    "        \n",
    "    def back_propagate(self):\n",
    "        if self.debug:\n",
    "            print('Back propagating...')\n",
    "            \n",
    "        grads = None\n",
    "        \n",
    "        for layer in reversed(self.layers):\n",
    "            if self.debug:\n",
    "                print('Layer name: {}'.format(layer.name))\n",
    "\n",
    "            grads = layer.back_propagate(grads)\n",
    "\n",
    "            if self.debug:\n",
    "                print('Losses shape: {}'.format(losses.shape))\n",
    "    \n",
    "    def train(self, X, y, epochs, bsize, alpha):\n",
    "        # IMPORTANT: I assume the last layer as Loss layer\n",
    "        if not isinstance(self.layers[len(self.layers) - 1], Loss):\n",
    "            raise Exception('Last layer is not a Loss layer')\n",
    "            \n",
    "        losses = []\n",
    "        \n",
    "        for i in range(0, epochs):\n",
    "            loss = 0.0\n",
    "            num_inputs = 0\n",
    "            idx_start = 0\n",
    "            \n",
    "            while idx_start < X.shape[0]:\n",
    "                idx_end = idx_start + bsize\n",
    "                \n",
    "                # Clip last batches\n",
    "                if idx_end > X.shape[0]:\n",
    "                    idx_end = X.shape[0]\n",
    "                \n",
    "                X_minbatch, y_minbatch = X[idx_start:idx_end], y[idx_start:idx_end]\n",
    "                \n",
    "                loss += self.forward_propagate(X_minbatch, y_minbatch).sum()\n",
    "            \n",
    "                self.back_propagate()\n",
    "                \n",
    "                idx_start = idx_start + bsize\n",
    "            \n",
    "            losses.append(loss / X.shape[0])\n",
    "        \n",
    "        return np.array(losses)\n",
    "    \n",
    "    def predict(self, X):\n",
    "        y_out_probs = self.forward_propagate(X)\n",
    "        \n",
    "        return np.argmax(y_out_probs, axis=1)\n",
    "    \n",
    "    def do_SGD(self, params):\n",
    "        for param in params:\n",
    "            param[:] = param - self.lr * param.grad\n",
    "    "
   ]
  },
  {
   "cell_type": "code",
   "execution_count": 15,
   "metadata": {},
   "outputs": [],
   "source": [
    "NN = MLP(debug=False)\n",
    "NN.add_layer('Input', dim_in=2, dim_out=16)\n",
    "NN.add_layer('Activation_Relu')\n",
    "NN.add_layer('Hidden', dim_in=16, dim_out=16)\n",
    "NN.add_layer('Activation_Relu')\n",
    "NN.add_layer('Output', dim_in=16, dim_out=3)\n",
    "NN.add_layer('Activation_Softmax')\n",
    "NN.add_layer('Loss_Cross_Entropy')\n",
    "\n",
    "losses = NN.train(X, y, epochs=10, bsize=32, alpha=0.0)\n",
    "# y_out = NN.forward_propagate(X)\n",
    "# y_outs = NN.predict(X)\n",
    "# NN.back_propagate(y_out, y)"
   ]
  },
  {
   "cell_type": "code",
   "execution_count": 16,
   "metadata": {},
   "outputs": [
    {
     "data": {
      "text/plain": [
       "(10,)"
      ]
     },
     "execution_count": 16,
     "metadata": {},
     "output_type": "execute_result"
    }
   ],
   "source": [
    "losses.shape"
   ]
  },
  {
   "cell_type": "code",
   "execution_count": 17,
   "metadata": {},
   "outputs": [
    {
     "data": {
      "text/plain": [
       "11.370776158422313"
      ]
     },
     "execution_count": 17,
     "metadata": {},
     "output_type": "execute_result"
    }
   ],
   "source": [
    "losses[0]"
   ]
  },
  {
   "cell_type": "code",
   "execution_count": null,
   "metadata": {},
   "outputs": [],
   "source": []
  },
  {
   "cell_type": "code",
   "execution_count": null,
   "metadata": {},
   "outputs": [],
   "source": []
  },
  {
   "cell_type": "code",
   "execution_count": null,
   "metadata": {},
   "outputs": [],
   "source": []
  },
  {
   "cell_type": "code",
   "execution_count": null,
   "metadata": {},
   "outputs": [],
   "source": []
  }
 ],
 "metadata": {
  "kernelspec": {
   "display_name": "Python 3",
   "language": "python",
   "name": "python3"
  },
  "language_info": {
   "codemirror_mode": {
    "name": "ipython",
    "version": 3
   },
   "file_extension": ".py",
   "mimetype": "text/x-python",
   "name": "python",
   "nbconvert_exporter": "python",
   "pygments_lexer": "ipython3",
   "version": "3.6.5"
  }
 },
 "nbformat": 4,
 "nbformat_minor": 2
}
